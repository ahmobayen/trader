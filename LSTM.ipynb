{
 "cells": [
  {
   "cell_type": "code",
   "execution_count": 11,
   "outputs": [],
   "source": [
    "# Basic Libraries\n",
    "import pandas as pd\n",
    "import numpy as np\n",
    "\n",
    "\n",
    "import yfinance as yf\n",
    "\n",
    "# import plotly package for graphs\n",
    "import plotly.graph_objs as go\n",
    "\n",
    "# sklearn\n",
    "from sklearn.preprocessing import MinMaxScaler\n",
    "\n",
    "# Tensorflow\n",
    "import keras\n",
    "from keras.models import Sequential\n",
    "from keras.layers import *"
   ],
   "metadata": {
    "collapsed": false,
    "ExecuteTime": {
     "end_time": "2023-07-20T11:25:08.392475128Z",
     "start_time": "2023-07-20T11:25:08.347375674Z"
    }
   }
  },
  {
   "cell_type": "code",
   "execution_count": 11,
   "outputs": [],
   "source": [],
   "metadata": {
    "collapsed": false,
    "ExecuteTime": {
     "end_time": "2023-07-20T11:25:08.392710601Z",
     "start_time": "2023-07-20T11:25:08.392273078Z"
    }
   }
  },
  {
   "cell_type": "code",
   "execution_count": 12,
   "metadata": {
    "collapsed": true,
    "ExecuteTime": {
     "end_time": "2023-07-20T11:25:08.432844480Z",
     "start_time": "2023-07-20T11:25:08.392652255Z"
    }
   },
   "outputs": [
    {
     "name": "stdout",
     "output_type": "stream",
     "text": [
      "[*********************100%***********************]  1 of 1 completed\n"
     ]
    },
    {
     "data": {
      "text/plain": "                  Open        High         Low       Close   Adj Close  \\\nDate                                                                     \n2022-03-28  375.230011  380.279999  366.730011  378.510010  378.510010   \n2022-03-29  384.390015  396.500000  380.329987  391.820007  391.820007   \n2022-03-30  389.549988  392.700012  378.630005  381.470001  381.470001   \n2022-03-31  383.589996  384.000000  373.609985  374.589996  374.589996   \n2022-04-01  376.799988  380.869995  368.500000  373.470001  373.470001   \n...                ...         ...         ...         ...         ...   \n2023-03-22  306.309998  306.450012  293.540009  293.899994  293.899994   \n2023-03-23  304.679993  322.779999  304.140015  320.369995  320.369995   \n2023-03-24  320.630005  331.829987  320.630005  328.390015  328.390015   \n2023-03-27  327.549988  336.440002  324.410004  327.660004  327.660004   \n2023-03-28  326.059998  333.320007  321.279999  323.519989  323.519989   \n\n              Volume  \nDate                  \n2022-03-28   4323400  \n2022-03-29   5880700  \n2022-03-30   4023300  \n2022-03-31   4134700  \n2022-04-01   4644200  \n...              ...  \n2023-03-22   5808000  \n2023-03-23  15653300  \n2023-03-24  12991700  \n2023-03-27   8625800  \n2023-03-28   6489400  \n\n[252 rows x 6 columns]",
      "text/html": "<div>\n<style scoped>\n    .dataframe tbody tr th:only-of-type {\n        vertical-align: middle;\n    }\n\n    .dataframe tbody tr th {\n        vertical-align: top;\n    }\n\n    .dataframe thead th {\n        text-align: right;\n    }\n</style>\n<table border=\"1\" class=\"dataframe\">\n  <thead>\n    <tr style=\"text-align: right;\">\n      <th></th>\n      <th>Open</th>\n      <th>High</th>\n      <th>Low</th>\n      <th>Close</th>\n      <th>Adj Close</th>\n      <th>Volume</th>\n    </tr>\n    <tr>\n      <th>Date</th>\n      <th></th>\n      <th></th>\n      <th></th>\n      <th></th>\n      <th></th>\n      <th></th>\n    </tr>\n  </thead>\n  <tbody>\n    <tr>\n      <th>2022-03-28</th>\n      <td>375.230011</td>\n      <td>380.279999</td>\n      <td>366.730011</td>\n      <td>378.510010</td>\n      <td>378.510010</td>\n      <td>4323400</td>\n    </tr>\n    <tr>\n      <th>2022-03-29</th>\n      <td>384.390015</td>\n      <td>396.500000</td>\n      <td>380.329987</td>\n      <td>391.820007</td>\n      <td>391.820007</td>\n      <td>5880700</td>\n    </tr>\n    <tr>\n      <th>2022-03-30</th>\n      <td>389.549988</td>\n      <td>392.700012</td>\n      <td>378.630005</td>\n      <td>381.470001</td>\n      <td>381.470001</td>\n      <td>4023300</td>\n    </tr>\n    <tr>\n      <th>2022-03-31</th>\n      <td>383.589996</td>\n      <td>384.000000</td>\n      <td>373.609985</td>\n      <td>374.589996</td>\n      <td>374.589996</td>\n      <td>4134700</td>\n    </tr>\n    <tr>\n      <th>2022-04-01</th>\n      <td>376.799988</td>\n      <td>380.869995</td>\n      <td>368.500000</td>\n      <td>373.470001</td>\n      <td>373.470001</td>\n      <td>4644200</td>\n    </tr>\n    <tr>\n      <th>...</th>\n      <td>...</td>\n      <td>...</td>\n      <td>...</td>\n      <td>...</td>\n      <td>...</td>\n      <td>...</td>\n    </tr>\n    <tr>\n      <th>2023-03-22</th>\n      <td>306.309998</td>\n      <td>306.450012</td>\n      <td>293.540009</td>\n      <td>293.899994</td>\n      <td>293.899994</td>\n      <td>5808000</td>\n    </tr>\n    <tr>\n      <th>2023-03-23</th>\n      <td>304.679993</td>\n      <td>322.779999</td>\n      <td>304.140015</td>\n      <td>320.369995</td>\n      <td>320.369995</td>\n      <td>15653300</td>\n    </tr>\n    <tr>\n      <th>2023-03-24</th>\n      <td>320.630005</td>\n      <td>331.829987</td>\n      <td>320.630005</td>\n      <td>328.390015</td>\n      <td>328.390015</td>\n      <td>12991700</td>\n    </tr>\n    <tr>\n      <th>2023-03-27</th>\n      <td>327.549988</td>\n      <td>336.440002</td>\n      <td>324.410004</td>\n      <td>327.660004</td>\n      <td>327.660004</td>\n      <td>8625800</td>\n    </tr>\n    <tr>\n      <th>2023-03-28</th>\n      <td>326.059998</td>\n      <td>333.320007</td>\n      <td>321.279999</td>\n      <td>323.519989</td>\n      <td>323.519989</td>\n      <td>6489400</td>\n    </tr>\n  </tbody>\n</table>\n<p>252 rows × 6 columns</p>\n</div>"
     },
     "execution_count": 12,
     "metadata": {},
     "output_type": "execute_result"
    }
   ],
   "source": [
    "# getting data from Yahoo Finance\n",
    "stock_name = 'NFLX'  # here you can change the name of stock ticker, for example we will take AMD ticker\n",
    "data = yf.download(stock_name, start=\"2022-03-26\", end=\"2023-03-29\")\n",
    "data"
   ]
  },
  {
   "cell_type": "code",
   "execution_count": 13,
   "outputs": [
    {
     "name": "stdout",
     "output_type": "stream",
     "text": [
      "[array([0.94096253, 1.        , 0.95409179, 0.92357503, 0.91860721,\n",
      "       0.99858058, 0.9482368 , 0.89589709, 0.86839649, 0.84058549,\n",
      "       0.80563316, 0.78833445, 0.81641157, 0.77516079, 0.76065638,\n",
      "       0.80833879, 0.26533601, 0.22998449, 0.21800846, 0.19312489,\n",
      "       0.1420714 , 0.09833665, 0.14703929, 0.10640942, 0.14677316,\n",
      "       0.1485917 , 0.16695497, 0.09736088, 0.06475939, 0.02985146,\n",
      "       0.05007766, 0.        , 0.03521846, 0.09434466, 0.08933244,\n",
      "       0.10729652, 0.04799293, 0.07589266, 0.0886228 , 0.09345756,\n",
      "       0.06196496, 0.09518743, 0.11102239, 0.12783325, 0.13781329,\n",
      "       0.11772015, 0.17174539, 0.14464404, 0.1364826 , 0.1430029 ,\n",
      "       0.16172102, 0.11709917, 0.07349748, 0.01472614, 0.00518961,\n",
      "       0.0609448 , 0.03096035, 0.04054114, 0.02013754, 0.05553339])]\n",
      "[0.06804174214279002]\n",
      "\n",
      "[array([0.94096253, 1.        , 0.95409179, 0.92357503, 0.91860721,\n",
      "       0.99858058, 0.9482368 , 0.89589709, 0.86839649, 0.84058549,\n",
      "       0.80563316, 0.78833445, 0.81641157, 0.77516079, 0.76065638,\n",
      "       0.80833879, 0.26533601, 0.22998449, 0.21800846, 0.19312489,\n",
      "       0.1420714 , 0.09833665, 0.14703929, 0.10640942, 0.14677316,\n",
      "       0.1485917 , 0.16695497, 0.09736088, 0.06475939, 0.02985146,\n",
      "       0.05007766, 0.        , 0.03521846, 0.09434466, 0.08933244,\n",
      "       0.10729652, 0.04799293, 0.07589266, 0.0886228 , 0.09345756,\n",
      "       0.06196496, 0.09518743, 0.11102239, 0.12783325, 0.13781329,\n",
      "       0.11772015, 0.17174539, 0.14464404, 0.1364826 , 0.1430029 ,\n",
      "       0.16172102, 0.11709917, 0.07349748, 0.01472614, 0.00518961,\n",
      "       0.0609448 , 0.03096035, 0.04054114, 0.02013754, 0.05553339]), array([1.        , 0.95409179, 0.92357503, 0.91860721, 0.99858058,\n",
      "       0.9482368 , 0.89589709, 0.86839649, 0.84058549, 0.80563316,\n",
      "       0.78833445, 0.81641157, 0.77516079, 0.76065638, 0.80833879,\n",
      "       0.26533601, 0.22998449, 0.21800846, 0.19312489, 0.1420714 ,\n",
      "       0.09833665, 0.14703929, 0.10640942, 0.14677316, 0.1485917 ,\n",
      "       0.16695497, 0.09736088, 0.06475939, 0.02985146, 0.05007766,\n",
      "       0.        , 0.03521846, 0.09434466, 0.08933244, 0.10729652,\n",
      "       0.04799293, 0.07589266, 0.0886228 , 0.09345756, 0.06196496,\n",
      "       0.09518743, 0.11102239, 0.12783325, 0.13781329, 0.11772015,\n",
      "       0.17174539, 0.14464404, 0.1364826 , 0.1430029 , 0.16172102,\n",
      "       0.11709917, 0.07349748, 0.01472614, 0.00518961, 0.0609448 ,\n",
      "       0.03096035, 0.04054114, 0.02013754, 0.05553339, 0.06804174])]\n",
      "[0.06804174214279002, 0.10858287718276138]\n",
      "\n"
     ]
    }
   ],
   "source": [
    "# Choose only Close price of stock\n",
    "data = data.filter(['Close'])\n",
    "dataset = data.values\n",
    "\n",
    "# Train data - 80%, test - 20%\n",
    "training_data_len = int(np.ceil( len(dataset) * .80 ))\n",
    "\n",
    "# Scale our data from 0 to 1\n",
    "scaler = MinMaxScaler(feature_range=(0,1))\n",
    "scaled_data = scaler.fit_transform(dataset)\n",
    "\n",
    "# Use our scaled data for training\n",
    "train_data = scaled_data[0:int(training_data_len), :]\n",
    "x_train = []\n",
    "y_train = []\n",
    "\n",
    "for i in range(60, len(train_data)):\n",
    "    x_train.append(train_data[i-60:i, 0])\n",
    "    y_train.append(train_data[i, 0])\n",
    "    if i<= 61:\n",
    "        print(x_train)\n",
    "        print(y_train)\n",
    "        print()\n",
    "\n",
    "x_train, y_train = np.array(x_train), np.array(y_train)\n",
    "\n",
    "x_train = np.reshape(x_train, (x_train.shape[0], x_train.shape[1], 1))"
   ],
   "metadata": {
    "collapsed": false,
    "ExecuteTime": {
     "end_time": "2023-07-20T11:25:08.440030546Z",
     "start_time": "2023-07-20T11:25:08.437738310Z"
    }
   }
  },
  {
   "cell_type": "code",
   "execution_count": 14,
   "outputs": [
    {
     "name": "stderr",
     "output_type": "stream",
     "text": [
      "2023-07-20 13:25:08.568929: I tensorflow/core/common_runtime/executor.cc:1197] [/device:CPU:0] (DEBUG INFO) Executor start aborting (this does not indicate an error and you can ignore this message): INVALID_ARGUMENT: You must feed a value for placeholder tensor 'gradients/split_2_grad/concat/split_2/split_dim' with dtype int32\n",
      "\t [[{{node gradients/split_2_grad/concat/split_2/split_dim}}]]\n",
      "2023-07-20 13:25:08.570280: I tensorflow/core/common_runtime/executor.cc:1197] [/device:CPU:0] (DEBUG INFO) Executor start aborting (this does not indicate an error and you can ignore this message): INVALID_ARGUMENT: You must feed a value for placeholder tensor 'gradients/split_grad/concat/split/split_dim' with dtype int32\n",
      "\t [[{{node gradients/split_grad/concat/split/split_dim}}]]\n",
      "2023-07-20 13:25:08.571153: I tensorflow/core/common_runtime/executor.cc:1197] [/device:CPU:0] (DEBUG INFO) Executor start aborting (this does not indicate an error and you can ignore this message): INVALID_ARGUMENT: You must feed a value for placeholder tensor 'gradients/split_1_grad/concat/split_1/split_dim' with dtype int32\n",
      "\t [[{{node gradients/split_1_grad/concat/split_1/split_dim}}]]\n",
      "2023-07-20 13:25:08.701870: I tensorflow/core/common_runtime/executor.cc:1197] [/device:CPU:0] (DEBUG INFO) Executor start aborting (this does not indicate an error and you can ignore this message): INVALID_ARGUMENT: You must feed a value for placeholder tensor 'gradients/split_2_grad/concat/split_2/split_dim' with dtype int32\n",
      "\t [[{{node gradients/split_2_grad/concat/split_2/split_dim}}]]\n",
      "2023-07-20 13:25:08.702590: I tensorflow/core/common_runtime/executor.cc:1197] [/device:CPU:0] (DEBUG INFO) Executor start aborting (this does not indicate an error and you can ignore this message): INVALID_ARGUMENT: You must feed a value for placeholder tensor 'gradients/split_grad/concat/split/split_dim' with dtype int32\n",
      "\t [[{{node gradients/split_grad/concat/split/split_dim}}]]\n",
      "2023-07-20 13:25:08.703242: I tensorflow/core/common_runtime/executor.cc:1197] [/device:CPU:0] (DEBUG INFO) Executor start aborting (this does not indicate an error and you can ignore this message): INVALID_ARGUMENT: You must feed a value for placeholder tensor 'gradients/split_1_grad/concat/split_1/split_dim' with dtype int32\n",
      "\t [[{{node gradients/split_1_grad/concat/split_1/split_dim}}]]\n"
     ]
    },
    {
     "name": "stdout",
     "output_type": "stream",
     "text": [
      "Epoch 1/21\n"
     ]
    },
    {
     "name": "stderr",
     "output_type": "stream",
     "text": [
      "2023-07-20 13:25:08.902926: I tensorflow/core/common_runtime/executor.cc:1197] [/device:CPU:0] (DEBUG INFO) Executor start aborting (this does not indicate an error and you can ignore this message): INVALID_ARGUMENT: You must feed a value for placeholder tensor 'gradients/split_2_grad/concat/split_2/split_dim' with dtype int32\n",
      "\t [[{{node gradients/split_2_grad/concat/split_2/split_dim}}]]\n",
      "2023-07-20 13:25:08.904404: I tensorflow/core/common_runtime/executor.cc:1197] [/device:CPU:0] (DEBUG INFO) Executor start aborting (this does not indicate an error and you can ignore this message): INVALID_ARGUMENT: You must feed a value for placeholder tensor 'gradients/split_grad/concat/split/split_dim' with dtype int32\n",
      "\t [[{{node gradients/split_grad/concat/split/split_dim}}]]\n",
      "2023-07-20 13:25:08.905584: I tensorflow/core/common_runtime/executor.cc:1197] [/device:CPU:0] (DEBUG INFO) Executor start aborting (this does not indicate an error and you can ignore this message): INVALID_ARGUMENT: You must feed a value for placeholder tensor 'gradients/split_1_grad/concat/split_1/split_dim' with dtype int32\n",
      "\t [[{{node gradients/split_1_grad/concat/split_1/split_dim}}]]\n",
      "2023-07-20 13:25:09.052616: I tensorflow/core/common_runtime/executor.cc:1197] [/device:CPU:0] (DEBUG INFO) Executor start aborting (this does not indicate an error and you can ignore this message): INVALID_ARGUMENT: You must feed a value for placeholder tensor 'gradients/split_2_grad/concat/split_2/split_dim' with dtype int32\n",
      "\t [[{{node gradients/split_2_grad/concat/split_2/split_dim}}]]\n",
      "2023-07-20 13:25:09.054000: I tensorflow/core/common_runtime/executor.cc:1197] [/device:CPU:0] (DEBUG INFO) Executor start aborting (this does not indicate an error and you can ignore this message): INVALID_ARGUMENT: You must feed a value for placeholder tensor 'gradients/split_grad/concat/split/split_dim' with dtype int32\n",
      "\t [[{{node gradients/split_grad/concat/split/split_dim}}]]\n",
      "2023-07-20 13:25:09.055145: I tensorflow/core/common_runtime/executor.cc:1197] [/device:CPU:0] (DEBUG INFO) Executor start aborting (this does not indicate an error and you can ignore this message): INVALID_ARGUMENT: You must feed a value for placeholder tensor 'gradients/split_1_grad/concat/split_1/split_dim' with dtype int32\n",
      "\t [[{{node gradients/split_1_grad/concat/split_1/split_dim}}]]\n",
      "2023-07-20 13:25:09.602352: I tensorflow/core/common_runtime/executor.cc:1197] [/device:CPU:0] (DEBUG INFO) Executor start aborting (this does not indicate an error and you can ignore this message): INVALID_ARGUMENT: You must feed a value for placeholder tensor 'gradients/split_2_grad/concat/split_2/split_dim' with dtype int32\n",
      "\t [[{{node gradients/split_2_grad/concat/split_2/split_dim}}]]\n",
      "2023-07-20 13:25:09.603551: I tensorflow/core/common_runtime/executor.cc:1197] [/device:CPU:0] (DEBUG INFO) Executor start aborting (this does not indicate an error and you can ignore this message): INVALID_ARGUMENT: You must feed a value for placeholder tensor 'gradients/split_grad/concat/split/split_dim' with dtype int32\n",
      "\t [[{{node gradients/split_grad/concat/split/split_dim}}]]\n",
      "2023-07-20 13:25:09.604675: I tensorflow/core/common_runtime/executor.cc:1197] [/device:CPU:0] (DEBUG INFO) Executor start aborting (this does not indicate an error and you can ignore this message): INVALID_ARGUMENT: You must feed a value for placeholder tensor 'gradients/split_1_grad/concat/split_1/split_dim' with dtype int32\n",
      "\t [[{{node gradients/split_1_grad/concat/split_1/split_dim}}]]\n",
      "2023-07-20 13:25:09.740211: I tensorflow/core/common_runtime/executor.cc:1197] [/device:CPU:0] (DEBUG INFO) Executor start aborting (this does not indicate an error and you can ignore this message): INVALID_ARGUMENT: You must feed a value for placeholder tensor 'gradients/split_2_grad/concat/split_2/split_dim' with dtype int32\n",
      "\t [[{{node gradients/split_2_grad/concat/split_2/split_dim}}]]\n",
      "2023-07-20 13:25:09.741170: I tensorflow/core/common_runtime/executor.cc:1197] [/device:CPU:0] (DEBUG INFO) Executor start aborting (this does not indicate an error and you can ignore this message): INVALID_ARGUMENT: You must feed a value for placeholder tensor 'gradients/split_grad/concat/split/split_dim' with dtype int32\n",
      "\t [[{{node gradients/split_grad/concat/split/split_dim}}]]\n",
      "2023-07-20 13:25:09.741936: I tensorflow/core/common_runtime/executor.cc:1197] [/device:CPU:0] (DEBUG INFO) Executor start aborting (this does not indicate an error and you can ignore this message): INVALID_ARGUMENT: You must feed a value for placeholder tensor 'gradients/split_1_grad/concat/split_1/split_dim' with dtype int32\n",
      "\t [[{{node gradients/split_1_grad/concat/split_1/split_dim}}]]\n"
     ]
    },
    {
     "name": "stdout",
     "output_type": "stream",
     "text": [
      "142/142 [==============================] - 4s 13ms/step - loss: 0.0201 - accuracy: 0.0000e+00\n",
      "Epoch 2/21\n",
      "142/142 [==============================] - 2s 13ms/step - loss: 0.0105 - accuracy: 0.0000e+00\n",
      "Epoch 3/21\n",
      "142/142 [==============================] - 2s 13ms/step - loss: 0.0105 - accuracy: 0.0000e+00\n",
      "Epoch 4/21\n",
      "142/142 [==============================] - 2s 13ms/step - loss: 0.0073 - accuracy: 0.0000e+00\n",
      "Epoch 5/21\n",
      "142/142 [==============================] - 2s 14ms/step - loss: 0.0067 - accuracy: 0.0000e+00\n",
      "Epoch 6/21\n",
      "142/142 [==============================] - 2s 13ms/step - loss: 0.0067 - accuracy: 0.0000e+00\n",
      "Epoch 7/21\n",
      "142/142 [==============================] - 2s 14ms/step - loss: 0.0061 - accuracy: 0.0000e+00\n",
      "Epoch 8/21\n",
      "142/142 [==============================] - 2s 13ms/step - loss: 0.0075 - accuracy: 0.0000e+00\n",
      "Epoch 9/21\n",
      "142/142 [==============================] - 2s 13ms/step - loss: 0.0057 - accuracy: 0.0000e+00\n",
      "Epoch 10/21\n",
      "142/142 [==============================] - 2s 13ms/step - loss: 0.0061 - accuracy: 0.0000e+00\n",
      "Epoch 11/21\n",
      "142/142 [==============================] - 2s 13ms/step - loss: 0.0051 - accuracy: 0.0000e+00\n",
      "Epoch 12/21\n",
      "142/142 [==============================] - 2s 13ms/step - loss: 0.0049 - accuracy: 0.0000e+00\n",
      "Epoch 13/21\n",
      "142/142 [==============================] - 2s 13ms/step - loss: 0.0054 - accuracy: 0.0000e+00\n",
      "Epoch 14/21\n",
      "142/142 [==============================] - 2s 13ms/step - loss: 0.0045 - accuracy: 0.0000e+00\n",
      "Epoch 15/21\n",
      "142/142 [==============================] - 2s 13ms/step - loss: 0.0047 - accuracy: 0.0000e+00\n",
      "Epoch 16/21\n",
      "142/142 [==============================] - 2s 13ms/step - loss: 0.0041 - accuracy: 0.0000e+00\n",
      "Epoch 17/21\n",
      "142/142 [==============================] - 2s 13ms/step - loss: 0.0036 - accuracy: 0.0000e+00\n",
      "Epoch 18/21\n",
      "142/142 [==============================] - 2s 13ms/step - loss: 0.0032 - accuracy: 0.0000e+00\n",
      "Epoch 19/21\n",
      "142/142 [==============================] - 2s 13ms/step - loss: 0.0048 - accuracy: 0.0000e+00\n",
      "Epoch 20/21\n",
      "142/142 [==============================] - 2s 13ms/step - loss: 0.0031 - accuracy: 0.0000e+00\n",
      "Epoch 21/21\n",
      "142/142 [==============================] - 2s 13ms/step - loss: 0.0037 - accuracy: 0.0000e+00\n",
      "You must install pydot (`pip install pydot`) and install graphviz (see instructions at https://graphviz.gitlab.io/download/) for plot_model to work.\n"
     ]
    }
   ],
   "source": [
    "\n",
    "# Build LSTM model\n",
    "model = Sequential()\n",
    "model.add(LSTM(128, return_sequences=True, input_shape = (x_train.shape[1], 1)))\n",
    "model.add(Dropout(0.35))\n",
    "model.add(LSTM(64, return_sequences=False))\n",
    "model.add(Dropout(0.3))\n",
    "model.add(Dense(25, activation = 'relu'))\n",
    "model.add(Dense(1))\n",
    "\n",
    "# Compile the model\n",
    "model.compile(optimizer='adam', loss='mean_squared_error', metrics=['accuracy'])\n",
    "\n",
    "# Тrain the model\n",
    "model.fit(x_train, y_train, batch_size=1, epochs=21)\n",
    "\n",
    "# Structure of the model\n",
    "keras.utils.plot_model(model, 'multi_input_and_output_model.png', show_shapes=True)"
   ],
   "metadata": {
    "collapsed": false,
    "ExecuteTime": {
     "end_time": "2023-07-20T11:25:49.481345339Z",
     "start_time": "2023-07-20T11:25:08.444295343Z"
    }
   }
  },
  {
   "cell_type": "code",
   "execution_count": 15,
   "outputs": [
    {
     "name": "stderr",
     "output_type": "stream",
     "text": [
      "2023-07-20 13:25:49.626547: I tensorflow/core/common_runtime/executor.cc:1197] [/device:CPU:0] (DEBUG INFO) Executor start aborting (this does not indicate an error and you can ignore this message): INVALID_ARGUMENT: You must feed a value for placeholder tensor 'gradients/split_2_grad/concat/split_2/split_dim' with dtype int32\n",
      "\t [[{{node gradients/split_2_grad/concat/split_2/split_dim}}]]\n",
      "2023-07-20 13:25:49.627555: I tensorflow/core/common_runtime/executor.cc:1197] [/device:CPU:0] (DEBUG INFO) Executor start aborting (this does not indicate an error and you can ignore this message): INVALID_ARGUMENT: You must feed a value for placeholder tensor 'gradients/split_grad/concat/split/split_dim' with dtype int32\n",
      "\t [[{{node gradients/split_grad/concat/split/split_dim}}]]\n",
      "2023-07-20 13:25:49.628307: I tensorflow/core/common_runtime/executor.cc:1197] [/device:CPU:0] (DEBUG INFO) Executor start aborting (this does not indicate an error and you can ignore this message): INVALID_ARGUMENT: You must feed a value for placeholder tensor 'gradients/split_1_grad/concat/split_1/split_dim' with dtype int32\n",
      "\t [[{{node gradients/split_1_grad/concat/split_1/split_dim}}]]\n",
      "2023-07-20 13:25:49.767678: I tensorflow/core/common_runtime/executor.cc:1197] [/device:CPU:0] (DEBUG INFO) Executor start aborting (this does not indicate an error and you can ignore this message): INVALID_ARGUMENT: You must feed a value for placeholder tensor 'gradients/split_2_grad/concat/split_2/split_dim' with dtype int32\n",
      "\t [[{{node gradients/split_2_grad/concat/split_2/split_dim}}]]\n",
      "2023-07-20 13:25:49.768489: I tensorflow/core/common_runtime/executor.cc:1197] [/device:CPU:0] (DEBUG INFO) Executor start aborting (this does not indicate an error and you can ignore this message): INVALID_ARGUMENT: You must feed a value for placeholder tensor 'gradients/split_grad/concat/split/split_dim' with dtype int32\n",
      "\t [[{{node gradients/split_grad/concat/split/split_dim}}]]\n",
      "2023-07-20 13:25:49.769216: I tensorflow/core/common_runtime/executor.cc:1197] [/device:CPU:0] (DEBUG INFO) Executor start aborting (this does not indicate an error and you can ignore this message): INVALID_ARGUMENT: You must feed a value for placeholder tensor 'gradients/split_1_grad/concat/split_1/split_dim' with dtype int32\n",
      "\t [[{{node gradients/split_1_grad/concat/split_1/split_dim}}]]\n"
     ]
    },
    {
     "name": "stdout",
     "output_type": "stream",
     "text": [
      "2/2 [==============================] - 0s 8ms/step\n",
      "RMSE LSTM: 25.798510447561394\n"
     ]
    }
   ],
   "source": [
    "model.save('./LSTM.h5')\n",
    "# Create test dataset\n",
    "test_data = scaled_data[training_data_len - 60: , :]\n",
    "x_test = []\n",
    "y_test = dataset[training_data_len:, :]\n",
    "for i in range(60, len(test_data)):\n",
    "    x_test.append(test_data[i-60:i, 0])\n",
    "\n",
    "x_test = np.array(x_test)\n",
    "\n",
    "x_test = np.reshape(x_test, (x_test.shape[0], x_test.shape[1], 1 ))\n",
    "# Predict on test data\n",
    "predictions = model.predict(x_test)\n",
    "predictions = scaler.inverse_transform(predictions)\n",
    "\n",
    "# For finding error we use RMSE formula, but MSE can be used too\n",
    "rmse = np.sqrt(np.mean(((predictions - y_test) ** 2)))\n",
    "print(f'RMSE LSTM: {rmse}')"
   ],
   "metadata": {
    "collapsed": false,
    "ExecuteTime": {
     "end_time": "2023-07-20T11:25:49.955520960Z",
     "start_time": "2023-07-20T11:25:49.480242839Z"
    }
   }
  },
  {
   "cell_type": "code",
   "execution_count": 16,
   "outputs": [],
   "source": [
    "\n",
    "# Graphs\n",
    "train = data[:training_data_len]\n",
    "valid = data[training_data_len:]\n",
    "\n",
    "#valid['Predictions'] = predictions\n",
    "train_gr = np.reshape(train['Close'].values, (202,))\n",
    "valid_gr = np.reshape(valid['Close'].values, (50,))\n",
    "\n",
    "preds_gr = np.reshape(predictions, (50,))\n"
   ],
   "metadata": {
    "collapsed": false,
    "ExecuteTime": {
     "end_time": "2023-07-20T11:25:49.958526924Z",
     "start_time": "2023-07-20T11:25:49.957012678Z"
    }
   }
  },
  {
   "cell_type": "code",
   "execution_count": 17,
   "outputs": [
    {
     "data": {
      "application/vnd.plotly.v1+json": {
       "data": [
        {
         "marker": {
          "color": "#39304A",
          "size": 4
         },
         "mode": "lines+markers",
         "name": "train",
         "x": [
          0,
          1,
          2,
          3,
          4,
          5,
          6,
          7,
          8,
          9,
          10,
          11,
          12,
          13,
          14,
          15,
          16,
          17,
          18,
          19,
          20,
          21,
          22,
          23,
          24,
          25,
          26,
          27,
          28,
          29,
          30,
          31,
          32,
          33,
          34,
          35,
          36,
          37,
          38,
          39,
          40,
          41,
          42,
          43,
          44,
          45,
          46,
          47,
          48,
          49,
          50,
          51,
          52,
          53,
          54,
          55,
          56,
          57,
          58,
          59,
          60,
          61,
          62,
          63,
          64,
          65,
          66,
          67,
          68,
          69,
          70,
          71,
          72,
          73,
          74,
          75,
          76,
          77,
          78,
          79,
          80,
          81,
          82,
          83,
          84,
          85,
          86,
          87,
          88,
          89,
          90,
          91,
          92,
          93,
          94,
          95,
          96,
          97,
          98,
          99,
          100,
          101,
          102,
          103,
          104,
          105,
          106,
          107,
          108,
          109,
          110,
          111,
          112,
          113,
          114,
          115,
          116,
          117,
          118,
          119,
          120,
          121,
          122,
          123,
          124,
          125,
          126,
          127,
          128,
          129,
          130,
          131,
          132,
          133,
          134,
          135,
          136,
          137,
          138,
          139,
          140,
          141,
          142,
          143,
          144,
          145,
          146,
          147,
          148,
          149,
          150,
          151,
          152,
          153,
          154,
          155,
          156,
          157,
          158,
          159,
          160,
          161,
          162,
          163,
          164,
          165,
          166,
          167,
          168,
          169,
          170,
          171,
          172,
          173,
          174,
          175,
          176,
          177,
          178,
          179,
          180,
          181,
          182,
          183,
          184,
          185,
          186,
          187,
          188,
          189,
          190,
          191,
          192,
          193,
          194,
          195,
          196,
          197,
          198,
          199,
          200,
          201
         ],
         "y": [
          378.510009765625,
          391.82000732421875,
          381.4700012207031,
          374.5899963378906,
          373.4700012207031,
          391.5,
          380.1499938964844,
          368.3500061035156,
          362.1499938964844,
          355.8800048828125,
          348.0,
          344.1000061035156,
          350.42999267578125,
          341.1300048828125,
          337.8599853515625,
          348.6099853515625,
          226.19000244140625,
          218.22000122070312,
          215.52000427246094,
          209.91000366210938,
          198.39999389648438,
          188.5399932861328,
          199.52000427246094,
          190.36000061035156,
          199.4600067138672,
          199.8699951171875,
          204.00999450683594,
          188.32000732421875,
          180.97000122070312,
          173.10000610351562,
          177.66000366210938,
          166.3699951171875,
          174.30999755859375,
          187.63999938964844,
          186.50999450683594,
          190.55999755859375,
          177.19000244140625,
          183.47999572753906,
          186.35000610351562,
          187.44000244140625,
          180.33999633789062,
          187.8300018310547,
          191.39999389648438,
          195.19000244140625,
          197.44000244140625,
          192.91000366210938,
          205.08999633789062,
          198.97999572753906,
          197.13999938964844,
          198.61000061035156,
          202.8300018310547,
          192.77000427246094,
          182.94000244140625,
          169.69000244140625,
          167.5399932861328,
          180.11000061035156,
          173.35000610351562,
          175.50999450683594,
          170.91000366210938,
          178.88999938964844,
          181.7100067138672,
          190.85000610351562,
          189.13999938964844,
          179.60000610351562,
          178.36000061035156,
          174.8699951171875,
          179.9499969482422,
          185.8800048828125,
          184.05999755859375,
          189.27000427246094,
          186.97999572753906,
          177.33999633789062,
          174.4499969482422,
          176.55999755859375,
          174.77999877929688,
          189.11000061035156,
          190.9199981689453,
          201.6300048828125,
          216.44000244140625,
          223.8800048828125,
          220.44000244140625,
          218.50999450683594,
          213.91000366210938,
          226.75,
          226.02000427246094,
          224.89999389648438,
          226.2100067138672,
          221.4199981689453,
          226.72999572753906,
          229.91000366210938,
          226.77999877929688,
          233.49000549316406,
          229.94000244140625,
          244.11000061035156,
          242.6999969482422,
          249.3000030517578,
          249.11000061035156,
          245.69000244140625,
          241.14999389648438,
          245.1699981689453,
          241.16000366210938,
          226.5399932861328,
          224.5500030517578,
          229.61000061035156,
          233.97999572753906,
          223.27999877929688,
          224.57000732421875,
          220.64999389648438,
          223.55999755859375,
          230.0399932861328,
          226.11000061035156,
          218.38999938964844,
          228.9600067138672,
          227.44000244140625,
          233.57000732421875,
          236.52999877929688,
          218.1300048828125,
          224.1199951171875,
          235.3800048828125,
          240.1300048828125,
          243.6300048828125,
          242.85000610351562,
          236.8699951171875,
          237.0500030517578,
          226.41000366210938,
          224.07000732421875,
          224.36000061035156,
          245.1999969482422,
          239.7100067138672,
          235.44000244140625,
          239.0399932861328,
          240.74000549316406,
          236.72999572753906,
          240.02000427246094,
          224.75,
          229.97999572753906,
          214.2899932861328,
          220.8699951171875,
          232.50999450683594,
          230.0,
          245.10000610351562,
          240.86000061035156,
          272.3800048828125,
          268.1600036621094,
          289.57000732421875,
          282.45001220703125,
          291.0199890136719,
          298.6199951171875,
          296.94000244140625,
          295.7200012207031,
          291.8800048828125,
          286.75,
          273.0,
          269.05999755859375,
          260.7900085449219,
          258.6000061035156,
          263.4599914550781,
          254.66000366210938,
          274.9700012207031,
          290.1300048828125,
          299.2699890136719,
          310.20001220703125,
          306.0199890136719,
          295.2799987792969,
          287.9800109863281,
          285.04998779296875,
          286.69000244140625,
          291.5,
          285.5400085449219,
          281.1700134277344,
          280.9599914550781,
          305.5299987792969,
          316.95001220703125,
          320.4100036621094,
          312.5899963378906,
          305.55999755859375,
          308.4200134277344,
          310.260009765625,
          320.010009765625,
          315.17999267578125,
          320.3399963378906,
          317.8299865722656,
          290.4100036621094,
          290.7099914550781,
          288.29998779296875,
          288.19000244140625,
          297.9599914550781,
          297.75,
          294.9599914550781,
          284.1700134277344,
          276.8800048828125,
          291.1199951171875,
          294.8800048828125,
          294.95001220703125,
          309.4100036621094,
          309.70001220703125,
          315.54998779296875,
          315.1700134277344,
          327.5400085449219,
          327.260009765625,
          330.1300048828125,
          332.82000732421875
         ],
         "type": "scatter"
        },
        {
         "marker": {
          "color": "#A98D75",
          "size": 4
         },
         "mode": "lines+markers",
         "name": "valid",
         "x": [
          201,
          202,
          203,
          204,
          205,
          206,
          207,
          208,
          209,
          210,
          211,
          212,
          213,
          214,
          215,
          216,
          217,
          218,
          219,
          220,
          221,
          222,
          223,
          224,
          225,
          226,
          227,
          228,
          229,
          230,
          231,
          232,
          233,
          234,
          235,
          236,
          237,
          238,
          239,
          240,
          241,
          242,
          243,
          244,
          245,
          246,
          247,
          248,
          249,
          250,
          251
         ],
         "y": [
          326.2200012207031,
          326.3299865722656,
          315.7799987792969,
          342.5,
          357.4200134277344,
          363.8299865722656,
          367.9599914550781,
          364.8699951171875,
          360.7699890136719,
          353.1099853515625,
          353.8599853515625,
          361.989990234375,
          366.8900146484375,
          365.8999938964844,
          361.4800109863281,
          362.95001220703125,
          366.8299865722656,
          362.5,
          347.3599853515625,
          358.57000732421875,
          359.9599914550781,
          361.4200134277344,
          350.7099914550781,
          347.9599914550781,
          337.5,
          334.8800048828125,
          323.6499938964844,
          317.1499938964844,
          323.0299987792969,
          322.1300048828125,
          313.4800109863281,
          311.8800048828125,
          315.17999267578125,
          312.0299987792969,
          308.4700012207031,
          311.7900085449219,
          297.7799987792969,
          292.760009765625,
          293.510009765625,
          294.94000244140625,
          303.7900085449219,
          310.05999755859375,
          303.5,
          305.1300048828125,
          305.7900085449219,
          293.8999938964844,
          320.3699951171875,
          328.3900146484375,
          327.6600036621094,
          323.5199890136719
         ],
         "type": "scatter"
        },
        {
         "marker": {
          "color": "#FFAA00",
          "size": 4
         },
         "mode": "lines+markers",
         "name": "predictions",
         "x": [
          201,
          202,
          203,
          204,
          205,
          206,
          207,
          208,
          209,
          210,
          211,
          212,
          213,
          214,
          215,
          216,
          217,
          218,
          219,
          220,
          221,
          222,
          223,
          224,
          225,
          226,
          227,
          228,
          229,
          230,
          231,
          232,
          233,
          234,
          235,
          236,
          237,
          238,
          239,
          240,
          241,
          242,
          243,
          244,
          245,
          246,
          247,
          248,
          249,
          250,
          251
         ],
         "y": [
          308.3356628417969,
          306.7907409667969,
          305.0815124511719,
          300.6031799316406,
          306.4610900878906,
          317.98876953125,
          328.11590576171875,
          334.2414245605469,
          334.8168640136719,
          331.7361145019531,
          326.18267822265625,
          322.6778259277344,
          324.2418518066406,
          328.5126953125,
          331.5406799316406,
          331.473388671875,
          331.05328369140625,
          331.9219970703125,
          331.2576599121094,
          325.5104064941406,
          324.7882080078125,
          326.2802734375,
          328.439453125,
          326.3077392578125,
          323.1002502441406,
          317.518798828125,
          313.0126953125,
          307.2619934082031,
          301.84002685546875,
          301.14935302734375,
          302.18133544921875,
          300.6285705566406,
          298.5317077636719,
          298.2249755859375,
          297.4739685058594,
          295.68878173828125,
          295.4062194824219,
          290.9395446777344,
          285.4593505859375,
          282.2398986816406,
          281.7199401855469,
          285.4737854003906,
          291.19415283203125,
          292.7544860839844,
          292.7201843261719,
          292.1199951171875,
          287.4195556640625,
          292.307861328125,
          300.68817138671875,
          306.14520263671875
         ],
         "type": "scatter"
        }
       ],
       "layout": {
        "template": {
         "data": {
          "histogram2dcontour": [
           {
            "type": "histogram2dcontour",
            "colorbar": {
             "outlinewidth": 0,
             "ticks": ""
            },
            "colorscale": [
             [
              0.0,
              "#0d0887"
             ],
             [
              0.1111111111111111,
              "#46039f"
             ],
             [
              0.2222222222222222,
              "#7201a8"
             ],
             [
              0.3333333333333333,
              "#9c179e"
             ],
             [
              0.4444444444444444,
              "#bd3786"
             ],
             [
              0.5555555555555556,
              "#d8576b"
             ],
             [
              0.6666666666666666,
              "#ed7953"
             ],
             [
              0.7777777777777778,
              "#fb9f3a"
             ],
             [
              0.8888888888888888,
              "#fdca26"
             ],
             [
              1.0,
              "#f0f921"
             ]
            ]
           }
          ],
          "choropleth": [
           {
            "type": "choropleth",
            "colorbar": {
             "outlinewidth": 0,
             "ticks": ""
            }
           }
          ],
          "histogram2d": [
           {
            "type": "histogram2d",
            "colorbar": {
             "outlinewidth": 0,
             "ticks": ""
            },
            "colorscale": [
             [
              0.0,
              "#0d0887"
             ],
             [
              0.1111111111111111,
              "#46039f"
             ],
             [
              0.2222222222222222,
              "#7201a8"
             ],
             [
              0.3333333333333333,
              "#9c179e"
             ],
             [
              0.4444444444444444,
              "#bd3786"
             ],
             [
              0.5555555555555556,
              "#d8576b"
             ],
             [
              0.6666666666666666,
              "#ed7953"
             ],
             [
              0.7777777777777778,
              "#fb9f3a"
             ],
             [
              0.8888888888888888,
              "#fdca26"
             ],
             [
              1.0,
              "#f0f921"
             ]
            ]
           }
          ],
          "heatmap": [
           {
            "type": "heatmap",
            "colorbar": {
             "outlinewidth": 0,
             "ticks": ""
            },
            "colorscale": [
             [
              0.0,
              "#0d0887"
             ],
             [
              0.1111111111111111,
              "#46039f"
             ],
             [
              0.2222222222222222,
              "#7201a8"
             ],
             [
              0.3333333333333333,
              "#9c179e"
             ],
             [
              0.4444444444444444,
              "#bd3786"
             ],
             [
              0.5555555555555556,
              "#d8576b"
             ],
             [
              0.6666666666666666,
              "#ed7953"
             ],
             [
              0.7777777777777778,
              "#fb9f3a"
             ],
             [
              0.8888888888888888,
              "#fdca26"
             ],
             [
              1.0,
              "#f0f921"
             ]
            ]
           }
          ],
          "heatmapgl": [
           {
            "type": "heatmapgl",
            "colorbar": {
             "outlinewidth": 0,
             "ticks": ""
            },
            "colorscale": [
             [
              0.0,
              "#0d0887"
             ],
             [
              0.1111111111111111,
              "#46039f"
             ],
             [
              0.2222222222222222,
              "#7201a8"
             ],
             [
              0.3333333333333333,
              "#9c179e"
             ],
             [
              0.4444444444444444,
              "#bd3786"
             ],
             [
              0.5555555555555556,
              "#d8576b"
             ],
             [
              0.6666666666666666,
              "#ed7953"
             ],
             [
              0.7777777777777778,
              "#fb9f3a"
             ],
             [
              0.8888888888888888,
              "#fdca26"
             ],
             [
              1.0,
              "#f0f921"
             ]
            ]
           }
          ],
          "contourcarpet": [
           {
            "type": "contourcarpet",
            "colorbar": {
             "outlinewidth": 0,
             "ticks": ""
            }
           }
          ],
          "contour": [
           {
            "type": "contour",
            "colorbar": {
             "outlinewidth": 0,
             "ticks": ""
            },
            "colorscale": [
             [
              0.0,
              "#0d0887"
             ],
             [
              0.1111111111111111,
              "#46039f"
             ],
             [
              0.2222222222222222,
              "#7201a8"
             ],
             [
              0.3333333333333333,
              "#9c179e"
             ],
             [
              0.4444444444444444,
              "#bd3786"
             ],
             [
              0.5555555555555556,
              "#d8576b"
             ],
             [
              0.6666666666666666,
              "#ed7953"
             ],
             [
              0.7777777777777778,
              "#fb9f3a"
             ],
             [
              0.8888888888888888,
              "#fdca26"
             ],
             [
              1.0,
              "#f0f921"
             ]
            ]
           }
          ],
          "surface": [
           {
            "type": "surface",
            "colorbar": {
             "outlinewidth": 0,
             "ticks": ""
            },
            "colorscale": [
             [
              0.0,
              "#0d0887"
             ],
             [
              0.1111111111111111,
              "#46039f"
             ],
             [
              0.2222222222222222,
              "#7201a8"
             ],
             [
              0.3333333333333333,
              "#9c179e"
             ],
             [
              0.4444444444444444,
              "#bd3786"
             ],
             [
              0.5555555555555556,
              "#d8576b"
             ],
             [
              0.6666666666666666,
              "#ed7953"
             ],
             [
              0.7777777777777778,
              "#fb9f3a"
             ],
             [
              0.8888888888888888,
              "#fdca26"
             ],
             [
              1.0,
              "#f0f921"
             ]
            ]
           }
          ],
          "mesh3d": [
           {
            "type": "mesh3d",
            "colorbar": {
             "outlinewidth": 0,
             "ticks": ""
            }
           }
          ],
          "scatter": [
           {
            "fillpattern": {
             "fillmode": "overlay",
             "size": 10,
             "solidity": 0.2
            },
            "type": "scatter"
           }
          ],
          "parcoords": [
           {
            "type": "parcoords",
            "line": {
             "colorbar": {
              "outlinewidth": 0,
              "ticks": ""
             }
            }
           }
          ],
          "scatterpolargl": [
           {
            "type": "scatterpolargl",
            "marker": {
             "colorbar": {
              "outlinewidth": 0,
              "ticks": ""
             }
            }
           }
          ],
          "bar": [
           {
            "error_x": {
             "color": "#2a3f5f"
            },
            "error_y": {
             "color": "#2a3f5f"
            },
            "marker": {
             "line": {
              "color": "#E5ECF6",
              "width": 0.5
             },
             "pattern": {
              "fillmode": "overlay",
              "size": 10,
              "solidity": 0.2
             }
            },
            "type": "bar"
           }
          ],
          "scattergeo": [
           {
            "type": "scattergeo",
            "marker": {
             "colorbar": {
              "outlinewidth": 0,
              "ticks": ""
             }
            }
           }
          ],
          "scatterpolar": [
           {
            "type": "scatterpolar",
            "marker": {
             "colorbar": {
              "outlinewidth": 0,
              "ticks": ""
             }
            }
           }
          ],
          "histogram": [
           {
            "marker": {
             "pattern": {
              "fillmode": "overlay",
              "size": 10,
              "solidity": 0.2
             }
            },
            "type": "histogram"
           }
          ],
          "scattergl": [
           {
            "type": "scattergl",
            "marker": {
             "colorbar": {
              "outlinewidth": 0,
              "ticks": ""
             }
            }
           }
          ],
          "scatter3d": [
           {
            "type": "scatter3d",
            "line": {
             "colorbar": {
              "outlinewidth": 0,
              "ticks": ""
             }
            },
            "marker": {
             "colorbar": {
              "outlinewidth": 0,
              "ticks": ""
             }
            }
           }
          ],
          "scattermapbox": [
           {
            "type": "scattermapbox",
            "marker": {
             "colorbar": {
              "outlinewidth": 0,
              "ticks": ""
             }
            }
           }
          ],
          "scatterternary": [
           {
            "type": "scatterternary",
            "marker": {
             "colorbar": {
              "outlinewidth": 0,
              "ticks": ""
             }
            }
           }
          ],
          "scattercarpet": [
           {
            "type": "scattercarpet",
            "marker": {
             "colorbar": {
              "outlinewidth": 0,
              "ticks": ""
             }
            }
           }
          ],
          "carpet": [
           {
            "aaxis": {
             "endlinecolor": "#2a3f5f",
             "gridcolor": "white",
             "linecolor": "white",
             "minorgridcolor": "white",
             "startlinecolor": "#2a3f5f"
            },
            "baxis": {
             "endlinecolor": "#2a3f5f",
             "gridcolor": "white",
             "linecolor": "white",
             "minorgridcolor": "white",
             "startlinecolor": "#2a3f5f"
            },
            "type": "carpet"
           }
          ],
          "table": [
           {
            "cells": {
             "fill": {
              "color": "#EBF0F8"
             },
             "line": {
              "color": "white"
             }
            },
            "header": {
             "fill": {
              "color": "#C8D4E3"
             },
             "line": {
              "color": "white"
             }
            },
            "type": "table"
           }
          ],
          "barpolar": [
           {
            "marker": {
             "line": {
              "color": "#E5ECF6",
              "width": 0.5
             },
             "pattern": {
              "fillmode": "overlay",
              "size": 10,
              "solidity": 0.2
             }
            },
            "type": "barpolar"
           }
          ],
          "pie": [
           {
            "automargin": true,
            "type": "pie"
           }
          ]
         },
         "layout": {
          "autotypenumbers": "strict",
          "colorway": [
           "#636efa",
           "#EF553B",
           "#00cc96",
           "#ab63fa",
           "#FFA15A",
           "#19d3f3",
           "#FF6692",
           "#B6E880",
           "#FF97FF",
           "#FECB52"
          ],
          "font": {
           "color": "#2a3f5f"
          },
          "hovermode": "closest",
          "hoverlabel": {
           "align": "left"
          },
          "paper_bgcolor": "white",
          "plot_bgcolor": "#E5ECF6",
          "polar": {
           "bgcolor": "#E5ECF6",
           "angularaxis": {
            "gridcolor": "white",
            "linecolor": "white",
            "ticks": ""
           },
           "radialaxis": {
            "gridcolor": "white",
            "linecolor": "white",
            "ticks": ""
           }
          },
          "ternary": {
           "bgcolor": "#E5ECF6",
           "aaxis": {
            "gridcolor": "white",
            "linecolor": "white",
            "ticks": ""
           },
           "baxis": {
            "gridcolor": "white",
            "linecolor": "white",
            "ticks": ""
           },
           "caxis": {
            "gridcolor": "white",
            "linecolor": "white",
            "ticks": ""
           }
          },
          "coloraxis": {
           "colorbar": {
            "outlinewidth": 0,
            "ticks": ""
           }
          },
          "colorscale": {
           "sequential": [
            [
             0.0,
             "#0d0887"
            ],
            [
             0.1111111111111111,
             "#46039f"
            ],
            [
             0.2222222222222222,
             "#7201a8"
            ],
            [
             0.3333333333333333,
             "#9c179e"
            ],
            [
             0.4444444444444444,
             "#bd3786"
            ],
            [
             0.5555555555555556,
             "#d8576b"
            ],
            [
             0.6666666666666666,
             "#ed7953"
            ],
            [
             0.7777777777777778,
             "#fb9f3a"
            ],
            [
             0.8888888888888888,
             "#fdca26"
            ],
            [
             1.0,
             "#f0f921"
            ]
           ],
           "sequentialminus": [
            [
             0.0,
             "#0d0887"
            ],
            [
             0.1111111111111111,
             "#46039f"
            ],
            [
             0.2222222222222222,
             "#7201a8"
            ],
            [
             0.3333333333333333,
             "#9c179e"
            ],
            [
             0.4444444444444444,
             "#bd3786"
            ],
            [
             0.5555555555555556,
             "#d8576b"
            ],
            [
             0.6666666666666666,
             "#ed7953"
            ],
            [
             0.7777777777777778,
             "#fb9f3a"
            ],
            [
             0.8888888888888888,
             "#fdca26"
            ],
            [
             1.0,
             "#f0f921"
            ]
           ],
           "diverging": [
            [
             0,
             "#8e0152"
            ],
            [
             0.1,
             "#c51b7d"
            ],
            [
             0.2,
             "#de77ae"
            ],
            [
             0.3,
             "#f1b6da"
            ],
            [
             0.4,
             "#fde0ef"
            ],
            [
             0.5,
             "#f7f7f7"
            ],
            [
             0.6,
             "#e6f5d0"
            ],
            [
             0.7,
             "#b8e186"
            ],
            [
             0.8,
             "#7fbc41"
            ],
            [
             0.9,
             "#4d9221"
            ],
            [
             1,
             "#276419"
            ]
           ]
          },
          "xaxis": {
           "gridcolor": "white",
           "linecolor": "white",
           "ticks": "",
           "title": {
            "standoff": 15
           },
           "zerolinecolor": "white",
           "automargin": true,
           "zerolinewidth": 2
          },
          "yaxis": {
           "gridcolor": "white",
           "linecolor": "white",
           "ticks": "",
           "title": {
            "standoff": 15
           },
           "zerolinecolor": "white",
           "automargin": true,
           "zerolinewidth": 2
          },
          "scene": {
           "xaxis": {
            "backgroundcolor": "#E5ECF6",
            "gridcolor": "white",
            "linecolor": "white",
            "showbackground": true,
            "ticks": "",
            "zerolinecolor": "white",
            "gridwidth": 2
           },
           "yaxis": {
            "backgroundcolor": "#E5ECF6",
            "gridcolor": "white",
            "linecolor": "white",
            "showbackground": true,
            "ticks": "",
            "zerolinecolor": "white",
            "gridwidth": 2
           },
           "zaxis": {
            "backgroundcolor": "#E5ECF6",
            "gridcolor": "white",
            "linecolor": "white",
            "showbackground": true,
            "ticks": "",
            "zerolinecolor": "white",
            "gridwidth": 2
           }
          },
          "shapedefaults": {
           "line": {
            "color": "#2a3f5f"
           }
          },
          "annotationdefaults": {
           "arrowcolor": "#2a3f5f",
           "arrowhead": 0,
           "arrowwidth": 1
          },
          "geo": {
           "bgcolor": "white",
           "landcolor": "#E5ECF6",
           "subunitcolor": "white",
           "showland": true,
           "showlakes": true,
           "lakecolor": "white"
          },
          "title": {
           "x": 0.05
          },
          "mapbox": {
           "style": "light"
          }
         }
        },
        "legend": {
         "orientation": "h",
         "x": 0.5,
         "xanchor": "center"
        },
        "xaxis": {
         "gridcolor": "lightgrey",
         "title": {
          "text": "Timestep"
         }
        },
        "yaxis": {
         "gridcolor": "lightgrey",
         "title": {
          "text": "Stock price"
         }
        },
        "title": {
         "text": "NFLX LSTM data",
         "x": 0.5
        },
        "margin": {
         "l": 0,
         "r": 0,
         "t": 30,
         "b": 0
        },
        "plot_bgcolor": "#FFFFFF"
       },
       "config": {
        "plotlyServerURL": "https://plot.ly"
       }
      },
      "text/html": "<div>                            <div id=\"37749b74-62a6-44a3-a30b-d8824e71c31e\" class=\"plotly-graph-div\" style=\"height:525px; width:100%;\"></div>            <script type=\"text/javascript\">                require([\"plotly\"], function(Plotly) {                    window.PLOTLYENV=window.PLOTLYENV || {};                                    if (document.getElementById(\"37749b74-62a6-44a3-a30b-d8824e71c31e\")) {                    Plotly.newPlot(                        \"37749b74-62a6-44a3-a30b-d8824e71c31e\",                        [{\"marker\":{\"color\":\"#39304A\",\"size\":4},\"mode\":\"lines+markers\",\"name\":\"train\",\"x\":[0,1,2,3,4,5,6,7,8,9,10,11,12,13,14,15,16,17,18,19,20,21,22,23,24,25,26,27,28,29,30,31,32,33,34,35,36,37,38,39,40,41,42,43,44,45,46,47,48,49,50,51,52,53,54,55,56,57,58,59,60,61,62,63,64,65,66,67,68,69,70,71,72,73,74,75,76,77,78,79,80,81,82,83,84,85,86,87,88,89,90,91,92,93,94,95,96,97,98,99,100,101,102,103,104,105,106,107,108,109,110,111,112,113,114,115,116,117,118,119,120,121,122,123,124,125,126,127,128,129,130,131,132,133,134,135,136,137,138,139,140,141,142,143,144,145,146,147,148,149,150,151,152,153,154,155,156,157,158,159,160,161,162,163,164,165,166,167,168,169,170,171,172,173,174,175,176,177,178,179,180,181,182,183,184,185,186,187,188,189,190,191,192,193,194,195,196,197,198,199,200,201],\"y\":[378.510009765625,391.82000732421875,381.4700012207031,374.5899963378906,373.4700012207031,391.5,380.1499938964844,368.3500061035156,362.1499938964844,355.8800048828125,348.0,344.1000061035156,350.42999267578125,341.1300048828125,337.8599853515625,348.6099853515625,226.19000244140625,218.22000122070312,215.52000427246094,209.91000366210938,198.39999389648438,188.5399932861328,199.52000427246094,190.36000061035156,199.4600067138672,199.8699951171875,204.00999450683594,188.32000732421875,180.97000122070312,173.10000610351562,177.66000366210938,166.3699951171875,174.30999755859375,187.63999938964844,186.50999450683594,190.55999755859375,177.19000244140625,183.47999572753906,186.35000610351562,187.44000244140625,180.33999633789062,187.8300018310547,191.39999389648438,195.19000244140625,197.44000244140625,192.91000366210938,205.08999633789062,198.97999572753906,197.13999938964844,198.61000061035156,202.8300018310547,192.77000427246094,182.94000244140625,169.69000244140625,167.5399932861328,180.11000061035156,173.35000610351562,175.50999450683594,170.91000366210938,178.88999938964844,181.7100067138672,190.85000610351562,189.13999938964844,179.60000610351562,178.36000061035156,174.8699951171875,179.9499969482422,185.8800048828125,184.05999755859375,189.27000427246094,186.97999572753906,177.33999633789062,174.4499969482422,176.55999755859375,174.77999877929688,189.11000061035156,190.9199981689453,201.6300048828125,216.44000244140625,223.8800048828125,220.44000244140625,218.50999450683594,213.91000366210938,226.75,226.02000427246094,224.89999389648438,226.2100067138672,221.4199981689453,226.72999572753906,229.91000366210938,226.77999877929688,233.49000549316406,229.94000244140625,244.11000061035156,242.6999969482422,249.3000030517578,249.11000061035156,245.69000244140625,241.14999389648438,245.1699981689453,241.16000366210938,226.5399932861328,224.5500030517578,229.61000061035156,233.97999572753906,223.27999877929688,224.57000732421875,220.64999389648438,223.55999755859375,230.0399932861328,226.11000061035156,218.38999938964844,228.9600067138672,227.44000244140625,233.57000732421875,236.52999877929688,218.1300048828125,224.1199951171875,235.3800048828125,240.1300048828125,243.6300048828125,242.85000610351562,236.8699951171875,237.0500030517578,226.41000366210938,224.07000732421875,224.36000061035156,245.1999969482422,239.7100067138672,235.44000244140625,239.0399932861328,240.74000549316406,236.72999572753906,240.02000427246094,224.75,229.97999572753906,214.2899932861328,220.8699951171875,232.50999450683594,230.0,245.10000610351562,240.86000061035156,272.3800048828125,268.1600036621094,289.57000732421875,282.45001220703125,291.0199890136719,298.6199951171875,296.94000244140625,295.7200012207031,291.8800048828125,286.75,273.0,269.05999755859375,260.7900085449219,258.6000061035156,263.4599914550781,254.66000366210938,274.9700012207031,290.1300048828125,299.2699890136719,310.20001220703125,306.0199890136719,295.2799987792969,287.9800109863281,285.04998779296875,286.69000244140625,291.5,285.5400085449219,281.1700134277344,280.9599914550781,305.5299987792969,316.95001220703125,320.4100036621094,312.5899963378906,305.55999755859375,308.4200134277344,310.260009765625,320.010009765625,315.17999267578125,320.3399963378906,317.8299865722656,290.4100036621094,290.7099914550781,288.29998779296875,288.19000244140625,297.9599914550781,297.75,294.9599914550781,284.1700134277344,276.8800048828125,291.1199951171875,294.8800048828125,294.95001220703125,309.4100036621094,309.70001220703125,315.54998779296875,315.1700134277344,327.5400085449219,327.260009765625,330.1300048828125,332.82000732421875],\"type\":\"scatter\"},{\"marker\":{\"color\":\"#A98D75\",\"size\":4},\"mode\":\"lines+markers\",\"name\":\"valid\",\"x\":[201,202,203,204,205,206,207,208,209,210,211,212,213,214,215,216,217,218,219,220,221,222,223,224,225,226,227,228,229,230,231,232,233,234,235,236,237,238,239,240,241,242,243,244,245,246,247,248,249,250,251],\"y\":[326.2200012207031,326.3299865722656,315.7799987792969,342.5,357.4200134277344,363.8299865722656,367.9599914550781,364.8699951171875,360.7699890136719,353.1099853515625,353.8599853515625,361.989990234375,366.8900146484375,365.8999938964844,361.4800109863281,362.95001220703125,366.8299865722656,362.5,347.3599853515625,358.57000732421875,359.9599914550781,361.4200134277344,350.7099914550781,347.9599914550781,337.5,334.8800048828125,323.6499938964844,317.1499938964844,323.0299987792969,322.1300048828125,313.4800109863281,311.8800048828125,315.17999267578125,312.0299987792969,308.4700012207031,311.7900085449219,297.7799987792969,292.760009765625,293.510009765625,294.94000244140625,303.7900085449219,310.05999755859375,303.5,305.1300048828125,305.7900085449219,293.8999938964844,320.3699951171875,328.3900146484375,327.6600036621094,323.5199890136719],\"type\":\"scatter\"},{\"marker\":{\"color\":\"#FFAA00\",\"size\":4},\"mode\":\"lines+markers\",\"name\":\"predictions\",\"x\":[201,202,203,204,205,206,207,208,209,210,211,212,213,214,215,216,217,218,219,220,221,222,223,224,225,226,227,228,229,230,231,232,233,234,235,236,237,238,239,240,241,242,243,244,245,246,247,248,249,250,251],\"y\":[308.3356628417969,306.7907409667969,305.0815124511719,300.6031799316406,306.4610900878906,317.98876953125,328.11590576171875,334.2414245605469,334.8168640136719,331.7361145019531,326.18267822265625,322.6778259277344,324.2418518066406,328.5126953125,331.5406799316406,331.473388671875,331.05328369140625,331.9219970703125,331.2576599121094,325.5104064941406,324.7882080078125,326.2802734375,328.439453125,326.3077392578125,323.1002502441406,317.518798828125,313.0126953125,307.2619934082031,301.84002685546875,301.14935302734375,302.18133544921875,300.6285705566406,298.5317077636719,298.2249755859375,297.4739685058594,295.68878173828125,295.4062194824219,290.9395446777344,285.4593505859375,282.2398986816406,281.7199401855469,285.4737854003906,291.19415283203125,292.7544860839844,292.7201843261719,292.1199951171875,287.4195556640625,292.307861328125,300.68817138671875,306.14520263671875],\"type\":\"scatter\"}],                        {\"template\":{\"data\":{\"histogram2dcontour\":[{\"type\":\"histogram2dcontour\",\"colorbar\":{\"outlinewidth\":0,\"ticks\":\"\"},\"colorscale\":[[0.0,\"#0d0887\"],[0.1111111111111111,\"#46039f\"],[0.2222222222222222,\"#7201a8\"],[0.3333333333333333,\"#9c179e\"],[0.4444444444444444,\"#bd3786\"],[0.5555555555555556,\"#d8576b\"],[0.6666666666666666,\"#ed7953\"],[0.7777777777777778,\"#fb9f3a\"],[0.8888888888888888,\"#fdca26\"],[1.0,\"#f0f921\"]]}],\"choropleth\":[{\"type\":\"choropleth\",\"colorbar\":{\"outlinewidth\":0,\"ticks\":\"\"}}],\"histogram2d\":[{\"type\":\"histogram2d\",\"colorbar\":{\"outlinewidth\":0,\"ticks\":\"\"},\"colorscale\":[[0.0,\"#0d0887\"],[0.1111111111111111,\"#46039f\"],[0.2222222222222222,\"#7201a8\"],[0.3333333333333333,\"#9c179e\"],[0.4444444444444444,\"#bd3786\"],[0.5555555555555556,\"#d8576b\"],[0.6666666666666666,\"#ed7953\"],[0.7777777777777778,\"#fb9f3a\"],[0.8888888888888888,\"#fdca26\"],[1.0,\"#f0f921\"]]}],\"heatmap\":[{\"type\":\"heatmap\",\"colorbar\":{\"outlinewidth\":0,\"ticks\":\"\"},\"colorscale\":[[0.0,\"#0d0887\"],[0.1111111111111111,\"#46039f\"],[0.2222222222222222,\"#7201a8\"],[0.3333333333333333,\"#9c179e\"],[0.4444444444444444,\"#bd3786\"],[0.5555555555555556,\"#d8576b\"],[0.6666666666666666,\"#ed7953\"],[0.7777777777777778,\"#fb9f3a\"],[0.8888888888888888,\"#fdca26\"],[1.0,\"#f0f921\"]]}],\"heatmapgl\":[{\"type\":\"heatmapgl\",\"colorbar\":{\"outlinewidth\":0,\"ticks\":\"\"},\"colorscale\":[[0.0,\"#0d0887\"],[0.1111111111111111,\"#46039f\"],[0.2222222222222222,\"#7201a8\"],[0.3333333333333333,\"#9c179e\"],[0.4444444444444444,\"#bd3786\"],[0.5555555555555556,\"#d8576b\"],[0.6666666666666666,\"#ed7953\"],[0.7777777777777778,\"#fb9f3a\"],[0.8888888888888888,\"#fdca26\"],[1.0,\"#f0f921\"]]}],\"contourcarpet\":[{\"type\":\"contourcarpet\",\"colorbar\":{\"outlinewidth\":0,\"ticks\":\"\"}}],\"contour\":[{\"type\":\"contour\",\"colorbar\":{\"outlinewidth\":0,\"ticks\":\"\"},\"colorscale\":[[0.0,\"#0d0887\"],[0.1111111111111111,\"#46039f\"],[0.2222222222222222,\"#7201a8\"],[0.3333333333333333,\"#9c179e\"],[0.4444444444444444,\"#bd3786\"],[0.5555555555555556,\"#d8576b\"],[0.6666666666666666,\"#ed7953\"],[0.7777777777777778,\"#fb9f3a\"],[0.8888888888888888,\"#fdca26\"],[1.0,\"#f0f921\"]]}],\"surface\":[{\"type\":\"surface\",\"colorbar\":{\"outlinewidth\":0,\"ticks\":\"\"},\"colorscale\":[[0.0,\"#0d0887\"],[0.1111111111111111,\"#46039f\"],[0.2222222222222222,\"#7201a8\"],[0.3333333333333333,\"#9c179e\"],[0.4444444444444444,\"#bd3786\"],[0.5555555555555556,\"#d8576b\"],[0.6666666666666666,\"#ed7953\"],[0.7777777777777778,\"#fb9f3a\"],[0.8888888888888888,\"#fdca26\"],[1.0,\"#f0f921\"]]}],\"mesh3d\":[{\"type\":\"mesh3d\",\"colorbar\":{\"outlinewidth\":0,\"ticks\":\"\"}}],\"scatter\":[{\"fillpattern\":{\"fillmode\":\"overlay\",\"size\":10,\"solidity\":0.2},\"type\":\"scatter\"}],\"parcoords\":[{\"type\":\"parcoords\",\"line\":{\"colorbar\":{\"outlinewidth\":0,\"ticks\":\"\"}}}],\"scatterpolargl\":[{\"type\":\"scatterpolargl\",\"marker\":{\"colorbar\":{\"outlinewidth\":0,\"ticks\":\"\"}}}],\"bar\":[{\"error_x\":{\"color\":\"#2a3f5f\"},\"error_y\":{\"color\":\"#2a3f5f\"},\"marker\":{\"line\":{\"color\":\"#E5ECF6\",\"width\":0.5},\"pattern\":{\"fillmode\":\"overlay\",\"size\":10,\"solidity\":0.2}},\"type\":\"bar\"}],\"scattergeo\":[{\"type\":\"scattergeo\",\"marker\":{\"colorbar\":{\"outlinewidth\":0,\"ticks\":\"\"}}}],\"scatterpolar\":[{\"type\":\"scatterpolar\",\"marker\":{\"colorbar\":{\"outlinewidth\":0,\"ticks\":\"\"}}}],\"histogram\":[{\"marker\":{\"pattern\":{\"fillmode\":\"overlay\",\"size\":10,\"solidity\":0.2}},\"type\":\"histogram\"}],\"scattergl\":[{\"type\":\"scattergl\",\"marker\":{\"colorbar\":{\"outlinewidth\":0,\"ticks\":\"\"}}}],\"scatter3d\":[{\"type\":\"scatter3d\",\"line\":{\"colorbar\":{\"outlinewidth\":0,\"ticks\":\"\"}},\"marker\":{\"colorbar\":{\"outlinewidth\":0,\"ticks\":\"\"}}}],\"scattermapbox\":[{\"type\":\"scattermapbox\",\"marker\":{\"colorbar\":{\"outlinewidth\":0,\"ticks\":\"\"}}}],\"scatterternary\":[{\"type\":\"scatterternary\",\"marker\":{\"colorbar\":{\"outlinewidth\":0,\"ticks\":\"\"}}}],\"scattercarpet\":[{\"type\":\"scattercarpet\",\"marker\":{\"colorbar\":{\"outlinewidth\":0,\"ticks\":\"\"}}}],\"carpet\":[{\"aaxis\":{\"endlinecolor\":\"#2a3f5f\",\"gridcolor\":\"white\",\"linecolor\":\"white\",\"minorgridcolor\":\"white\",\"startlinecolor\":\"#2a3f5f\"},\"baxis\":{\"endlinecolor\":\"#2a3f5f\",\"gridcolor\":\"white\",\"linecolor\":\"white\",\"minorgridcolor\":\"white\",\"startlinecolor\":\"#2a3f5f\"},\"type\":\"carpet\"}],\"table\":[{\"cells\":{\"fill\":{\"color\":\"#EBF0F8\"},\"line\":{\"color\":\"white\"}},\"header\":{\"fill\":{\"color\":\"#C8D4E3\"},\"line\":{\"color\":\"white\"}},\"type\":\"table\"}],\"barpolar\":[{\"marker\":{\"line\":{\"color\":\"#E5ECF6\",\"width\":0.5},\"pattern\":{\"fillmode\":\"overlay\",\"size\":10,\"solidity\":0.2}},\"type\":\"barpolar\"}],\"pie\":[{\"automargin\":true,\"type\":\"pie\"}]},\"layout\":{\"autotypenumbers\":\"strict\",\"colorway\":[\"#636efa\",\"#EF553B\",\"#00cc96\",\"#ab63fa\",\"#FFA15A\",\"#19d3f3\",\"#FF6692\",\"#B6E880\",\"#FF97FF\",\"#FECB52\"],\"font\":{\"color\":\"#2a3f5f\"},\"hovermode\":\"closest\",\"hoverlabel\":{\"align\":\"left\"},\"paper_bgcolor\":\"white\",\"plot_bgcolor\":\"#E5ECF6\",\"polar\":{\"bgcolor\":\"#E5ECF6\",\"angularaxis\":{\"gridcolor\":\"white\",\"linecolor\":\"white\",\"ticks\":\"\"},\"radialaxis\":{\"gridcolor\":\"white\",\"linecolor\":\"white\",\"ticks\":\"\"}},\"ternary\":{\"bgcolor\":\"#E5ECF6\",\"aaxis\":{\"gridcolor\":\"white\",\"linecolor\":\"white\",\"ticks\":\"\"},\"baxis\":{\"gridcolor\":\"white\",\"linecolor\":\"white\",\"ticks\":\"\"},\"caxis\":{\"gridcolor\":\"white\",\"linecolor\":\"white\",\"ticks\":\"\"}},\"coloraxis\":{\"colorbar\":{\"outlinewidth\":0,\"ticks\":\"\"}},\"colorscale\":{\"sequential\":[[0.0,\"#0d0887\"],[0.1111111111111111,\"#46039f\"],[0.2222222222222222,\"#7201a8\"],[0.3333333333333333,\"#9c179e\"],[0.4444444444444444,\"#bd3786\"],[0.5555555555555556,\"#d8576b\"],[0.6666666666666666,\"#ed7953\"],[0.7777777777777778,\"#fb9f3a\"],[0.8888888888888888,\"#fdca26\"],[1.0,\"#f0f921\"]],\"sequentialminus\":[[0.0,\"#0d0887\"],[0.1111111111111111,\"#46039f\"],[0.2222222222222222,\"#7201a8\"],[0.3333333333333333,\"#9c179e\"],[0.4444444444444444,\"#bd3786\"],[0.5555555555555556,\"#d8576b\"],[0.6666666666666666,\"#ed7953\"],[0.7777777777777778,\"#fb9f3a\"],[0.8888888888888888,\"#fdca26\"],[1.0,\"#f0f921\"]],\"diverging\":[[0,\"#8e0152\"],[0.1,\"#c51b7d\"],[0.2,\"#de77ae\"],[0.3,\"#f1b6da\"],[0.4,\"#fde0ef\"],[0.5,\"#f7f7f7\"],[0.6,\"#e6f5d0\"],[0.7,\"#b8e186\"],[0.8,\"#7fbc41\"],[0.9,\"#4d9221\"],[1,\"#276419\"]]},\"xaxis\":{\"gridcolor\":\"white\",\"linecolor\":\"white\",\"ticks\":\"\",\"title\":{\"standoff\":15},\"zerolinecolor\":\"white\",\"automargin\":true,\"zerolinewidth\":2},\"yaxis\":{\"gridcolor\":\"white\",\"linecolor\":\"white\",\"ticks\":\"\",\"title\":{\"standoff\":15},\"zerolinecolor\":\"white\",\"automargin\":true,\"zerolinewidth\":2},\"scene\":{\"xaxis\":{\"backgroundcolor\":\"#E5ECF6\",\"gridcolor\":\"white\",\"linecolor\":\"white\",\"showbackground\":true,\"ticks\":\"\",\"zerolinecolor\":\"white\",\"gridwidth\":2},\"yaxis\":{\"backgroundcolor\":\"#E5ECF6\",\"gridcolor\":\"white\",\"linecolor\":\"white\",\"showbackground\":true,\"ticks\":\"\",\"zerolinecolor\":\"white\",\"gridwidth\":2},\"zaxis\":{\"backgroundcolor\":\"#E5ECF6\",\"gridcolor\":\"white\",\"linecolor\":\"white\",\"showbackground\":true,\"ticks\":\"\",\"zerolinecolor\":\"white\",\"gridwidth\":2}},\"shapedefaults\":{\"line\":{\"color\":\"#2a3f5f\"}},\"annotationdefaults\":{\"arrowcolor\":\"#2a3f5f\",\"arrowhead\":0,\"arrowwidth\":1},\"geo\":{\"bgcolor\":\"white\",\"landcolor\":\"#E5ECF6\",\"subunitcolor\":\"white\",\"showland\":true,\"showlakes\":true,\"lakecolor\":\"white\"},\"title\":{\"x\":0.05},\"mapbox\":{\"style\":\"light\"}}},\"legend\":{\"orientation\":\"h\",\"x\":0.5,\"xanchor\":\"center\"},\"xaxis\":{\"gridcolor\":\"lightgrey\",\"title\":{\"text\":\"Timestep\"}},\"yaxis\":{\"gridcolor\":\"lightgrey\",\"title\":{\"text\":\"Stock price\"}},\"title\":{\"text\":\"NFLX LSTM data\",\"x\":0.5},\"margin\":{\"l\":0,\"r\":0,\"t\":30,\"b\":0},\"plot_bgcolor\":\"#FFFFFF\"},                        {\"responsive\": true}                    ).then(function(){\n                            \nvar gd = document.getElementById('37749b74-62a6-44a3-a30b-d8824e71c31e');\nvar x = new MutationObserver(function (mutations, observer) {{\n        var display = window.getComputedStyle(gd).display;\n        if (!display || display === 'none') {{\n            console.log([gd, 'removed!']);\n            Plotly.purge(gd);\n            observer.disconnect();\n        }}\n}});\n\n// Listen for the removal of the full notebook cells\nvar notebookContainer = gd.closest('#notebook-container');\nif (notebookContainer) {{\n    x.observe(notebookContainer, {childList: true});\n}}\n\n// Listen for the clearing of the current output cell\nvar outputEl = gd.closest('.output');\nif (outputEl) {{\n    x.observe(outputEl, {childList: true});\n}}\n\n                        })                };                });            </script>        </div>"
     },
     "metadata": {},
     "output_type": "display_data"
    }
   ],
   "source": [
    "\n",
    "x_train = list(range(0, len(train_data)))\n",
    "x_valid = list(range(len(train_data)-1, len(dataset)))\n",
    "fig = go.Figure()\n",
    "fig.add_trace(go.Scatter(x=x_train, y=train_gr, mode='lines+markers', marker=dict(size=4),  name='train', marker_color='#39304A'))\n",
    "fig.add_trace(go.Scatter(x=x_valid, y=valid_gr, mode='lines+markers', marker=dict(size=4), name='valid', marker_color='#A98D75'))\n",
    "fig.add_trace(go.Scatter(x=x_valid, y=preds_gr, mode='lines+markers', marker=dict(size=4), name='predictions', marker_color='#FFAA00'))\n",
    "fig.update_layout(legend_orientation=\"h\",\n",
    "              legend=dict(x=.5, xanchor=\"center\"),\n",
    "              plot_bgcolor='#FFFFFF',\n",
    "              xaxis=dict(gridcolor = 'lightgrey'),\n",
    "              yaxis=dict(gridcolor = 'lightgrey'),\n",
    "              title_text = f'{stock_name} LSTM data', title_x = 0.5,\n",
    "              xaxis_title=\"Timestep\",\n",
    "              yaxis_title=\"Stock price\",\n",
    "              margin=dict(l=0, r=0, t=30, b=0))\n",
    "fig.show()\n"
   ],
   "metadata": {
    "collapsed": false,
    "ExecuteTime": {
     "end_time": "2023-07-20T11:25:49.978672378Z",
     "start_time": "2023-07-20T11:25:49.960475664Z"
    }
   }
  },
  {
   "cell_type": "code",
   "execution_count": 18,
   "outputs": [
    {
     "name": "stdout",
     "output_type": "stream",
     "text": [
      "[*********************100%***********************]  1 of 1 completed\n",
      "[*********************100%***********************]  1 of 1 completed\n"
     ]
    },
    {
     "name": "stderr",
     "output_type": "stream",
     "text": [
      "2023-07-20 13:25:50.288489: I tensorflow/core/common_runtime/executor.cc:1197] [/device:CPU:0] (DEBUG INFO) Executor start aborting (this does not indicate an error and you can ignore this message): INVALID_ARGUMENT: You must feed a value for placeholder tensor 'gradients/split_2_grad/concat/split_2/split_dim' with dtype int32\n",
      "\t [[{{node gradients/split_2_grad/concat/split_2/split_dim}}]]\n",
      "2023-07-20 13:25:50.289467: I tensorflow/core/common_runtime/executor.cc:1197] [/device:CPU:0] (DEBUG INFO) Executor start aborting (this does not indicate an error and you can ignore this message): INVALID_ARGUMENT: You must feed a value for placeholder tensor 'gradients/split_grad/concat/split/split_dim' with dtype int32\n",
      "\t [[{{node gradients/split_grad/concat/split/split_dim}}]]\n",
      "2023-07-20 13:25:50.290165: I tensorflow/core/common_runtime/executor.cc:1197] [/device:CPU:0] (DEBUG INFO) Executor start aborting (this does not indicate an error and you can ignore this message): INVALID_ARGUMENT: You must feed a value for placeholder tensor 'gradients/split_1_grad/concat/split_1/split_dim' with dtype int32\n",
      "\t [[{{node gradients/split_1_grad/concat/split_1/split_dim}}]]\n",
      "2023-07-20 13:25:50.426297: I tensorflow/core/common_runtime/executor.cc:1197] [/device:CPU:0] (DEBUG INFO) Executor start aborting (this does not indicate an error and you can ignore this message): INVALID_ARGUMENT: You must feed a value for placeholder tensor 'gradients/split_2_grad/concat/split_2/split_dim' with dtype int32\n",
      "\t [[{{node gradients/split_2_grad/concat/split_2/split_dim}}]]\n",
      "2023-07-20 13:25:50.427076: I tensorflow/core/common_runtime/executor.cc:1197] [/device:CPU:0] (DEBUG INFO) Executor start aborting (this does not indicate an error and you can ignore this message): INVALID_ARGUMENT: You must feed a value for placeholder tensor 'gradients/split_grad/concat/split/split_dim' with dtype int32\n",
      "\t [[{{node gradients/split_grad/concat/split/split_dim}}]]\n",
      "2023-07-20 13:25:50.427823: I tensorflow/core/common_runtime/executor.cc:1197] [/device:CPU:0] (DEBUG INFO) Executor start aborting (this does not indicate an error and you can ignore this message): INVALID_ARGUMENT: You must feed a value for placeholder tensor 'gradients/split_1_grad/concat/split_1/split_dim' with dtype int32\n",
      "\t [[{{node gradients/split_1_grad/concat/split_1/split_dim}}]]\n"
     ]
    },
    {
     "name": "stdout",
     "output_type": "stream",
     "text": [
      "10/10 [==============================] - 0s 4ms/step\n"
     ]
    }
   ],
   "source": [
    "\n",
    "# Predict stock prices for next month\n",
    "data_new = yf.download(stock_name, start=\"2022-04-01\", end=\"2023-07-30\")\n",
    "\n",
    "data_new = data_new.filter(['Close'])\n",
    "dataset = data_new.values\n",
    "training_data_len = len(dataset)\n",
    "\n",
    "scaler = MinMaxScaler(feature_range=(0,1))\n",
    "scaled_data = scaler.fit_transform(dataset)\n",
    "\n",
    "test_data = scaled_data[training_data_len - len(data_new): , :]\n",
    "x_test = []\n",
    "y_test = dataset[training_data_len:, :]\n",
    "for i in range(20, len(test_data)):\n",
    "    x_test.append(test_data[i-20:i, 0])\n",
    "\n",
    "x_test = np.array(x_test)\n",
    "\n",
    "x_test = np.reshape(x_test, (x_test.shape[0], x_test.shape[1], 1 ))\n",
    "\n",
    "hist_data_new = yf.download(stock_name, start=\"2021-04-01\", end=\"2021-05-04\")\n",
    "hist_data_new = hist_data_new.drop(['Open', 'High', 'Low', 'Adj Close', 'Volume'], axis=1)\n",
    "hist_data_new = hist_data_new['Close']\n",
    "hist_data_new = np.array(hist_data_new)\n",
    "pred_lstm = model.predict(x_test)\n",
    "pred_lstm = pred_lstm[:-1]\n",
    "pred_lstm = scaler.inverse_transform(pred_lstm)"
   ],
   "metadata": {
    "collapsed": false,
    "ExecuteTime": {
     "end_time": "2023-07-20T11:25:50.638290498Z",
     "start_time": "2023-07-20T11:25:49.979505104Z"
    }
   }
  },
  {
   "cell_type": "code",
   "execution_count": 19,
   "outputs": [
    {
     "data": {
      "application/vnd.plotly.v1+json": {
       "data": [
        {
         "marker": {
          "color": "#39304A"
         },
         "mode": "lines+markers",
         "name": "historical",
         "x": [
          0,
          1,
          2,
          3,
          4,
          5,
          6,
          7,
          8,
          9,
          10,
          11,
          12,
          13,
          14,
          15,
          16,
          17,
          18,
          19,
          20
         ],
         "y": [
          539.4199829101562,
          540.6699829101562,
          544.530029296875,
          546.989990234375,
          554.5800170898438,
          555.3099975585938,
          552.780029296875,
          553.72998046875,
          540.02001953125,
          549.219970703125,
          546.5399780273438,
          554.4400024414062,
          549.5700073242188,
          508.8999938964844,
          508.7799987792969,
          505.54998779296875,
          510.29998779296875,
          505.54998779296875,
          506.5199890136719,
          509.0,
          513.469970703125,
          509.1099853515625
         ],
         "type": "scatter"
        },
        {
         "marker": {
          "color": "#FFAA00"
         },
         "mode": "lines+markers",
         "name": "predictions",
         "x": [
          0,
          1,
          2,
          3,
          4,
          5,
          6,
          7,
          8,
          9,
          10,
          11,
          12,
          13,
          14,
          15,
          16,
          17,
          18,
          19,
          20
         ],
         "y": [
          214.11810302734375,
          216.26756286621094,
          218.56861877441406,
          220.47381591796875,
          215.61366271972656,
          209.1873016357422,
          202.45391845703125,
          199.31378173828125,
          196.871826171875,
          196.73809814453125,
          200.2879180908203,
          204.95703125,
          208.75900268554688,
          207.4250946044922,
          205.89459228515625,
          205.41668701171875,
          205.7104949951172,
          204.51919555664062,
          204.91021728515625,
          206.67678833007812,
          209.1976776123047,
          211.5702667236328,
          211.8611297607422,
          213.9834747314453,
          214.50582885742188,
          213.6941375732422,
          212.9692840576172,
          213.53753662109375,
          212.07228088378906,
          208.15159606933594,
          201.8084259033203,
          197.4969024658203,
          197.5849609375,
          198.29437255859375,
          199.4344024658203,
          199.6291961669922,
          201.06527709960938,
          203.02859497070312,
          206.4696502685547,
          208.63247680664062,
          207.06878662109375,
          204.19189453125,
          201.00587463378906,
          200.09298706054688,
          201.90316772460938,
          203.79986572265625,
          206.26394653320312,
          207.4908905029297,
          205.46852111816406,
          202.20118713378906,
          200.14369201660156,
          199.055419921875,
          202.06182861328125,
          206.1634979248047,
          211.57760620117188,
          219.73846435546875,
          229.65863037109375,
          233.8408966064453,
          233.1411895751953,
          228.94847106933594,
          229.117431640625,
          230.66848754882812,
          231.85540771484375,
          233.0082550048828,
          232.19969177246094,
          232.82554626464844,
          234.93487548828125,
          235.79820251464844,
          238.0517578125,
          238.77001953125,
          243.26036071777344,
          247.06683349609375,
          251.18951416015625,
          253.5623779296875,
          253.00537109375,
          249.89952087402344,
          248.38290405273438,
          246.719970703125,
          240.78369140625,
          235.01876831054688,
          233.50982666015625,
          236.00271606445312,
          235.60000610351562,
          234.79791259765625,
          233.02935791015625,
          232.4901885986328,
          234.74037170410156,
          235.8961639404297,
          233.58895874023438,
          234.24432373046875,
          235.2597198486328,
          237.93309020996094,
          241.09902954101562,
          237.18995666503906,
          233.9473419189453,
          235.8209686279297,
          240.52162170410156,
          245.91123962402344,
          249.00230407714844,
          247.8087158203125,
          245.40005493164062,
          239.75396728515625,
          234.42640686035156,
          231.5362091064453,
          237.68873596191406,
          243.620849609375,
          245.5816650390625,
          246.4336700439453,
          246.95858764648438,
          245.637939453125,
          245.15798950195312,
          239.91810607910156,
          236.71165466308594,
          230.59181213378906,
          227.94009399414062,
          231.7232208251953,
          235.87522888183594,
          243.86831665039062,
          248.63023376464844,
          260.9551086425781,
          269.2032775878906,
          279.5780029296875,
          283.36822509765625,
          285.76055908203125,
          288.87481689453125,
          290.10882568359375,
          289.6853942871094,
          287.5777282714844,
          284.13690185546875,
          277.18121337890625,
          270.780517578125,
          264.6949157714844,
          260.8607482910156,
          261.4751281738281,
          260.8155517578125,
          267.19830322265625,
          278.8639221191406,
          290.5777893066406,
          300.7220458984375,
          303.9288635253906,
          299.0962219238281,
          290.5495910644531,
          282.9465026855469,
          279.4324951171875,
          280.8348083496094,
          281.8040466308594,
          281.09625244140625,
          280.2309875488281,
          288.2852783203125,
          300.09735107421875,
          309.233154296875,
          310.4789123535156,
          305.695068359375,
          301.4374694824219,
          299.5447692871094,
          302.700927734375,
          304.7623596191406,
          307.560546875,
          308.61077880859375,
          299.30548095703125,
          290.51727294921875,
          284.732666015625,
          282.6573486328125,
          286.5149230957031,
          291.0932922363281,
          293.1694641113281,
          289.7237243652344,
          283.1204833984375,
          282.83233642578125,
          286.15655517578125,
          289.45501708984375,
          296.3495178222656,
          301.5002136230469,
          305.67425537109375,
          307.2825012207031,
          311.3155822753906,
          313.9949645996094,
          315.92791748046875,
          317.5461120605469,
          316.04534912109375,
          314.205322265625,
          309.53570556640625,
          315.0879211425781,
          326.90118408203125,
          337.8834533691406,
          344.9643249511719,
          346.1959533691406,
          343.2218322753906,
          337.3268127441406,
          333.21978759765625,
          334.3204345703125,
          338.5758361816406,
          341.940185546875,
          342.2251281738281,
          341.9296875,
          342.8173828125,
          342.1901550292969,
          336.33203125,
          335.1825866699219,
          336.5097961425781,
          338.7398681640625,
          336.7761535644531,
          333.48626708984375,
          327.6591491699219,
          322.72235107421875,
          316.5633850097656,
          310.7001037597656,
          309.6419982910156,
          310.60650634765625,
          309.1597900390625,
          307.0742492675781,
          306.71588134765625,
          305.9630432128906,
          304.1156921386719,
          303.7263488769531,
          299.11541748046875,
          293.2664794921875,
          289.64208984375,
          288.885009765625,
          292.6604919433594,
          298.7111511230469,
          300.69244384765625,
          300.8659973144531,
          300.3014221191406,
          295.4414367675781,
          300.13983154296875,
          308.8424072265625,
          314.8172607421875,
          315.8136901855469,
          317.34649658203125,
          320.268310546875,
          324.61737060546875,
          328.37432861328125,
          329.68438720703125,
          328.06011962890625,
          325.11077880859375,
          322.909423828125,
          321.7762756347656,
          319.294921875,
          322.80096435546875,
          324.3413391113281,
          322.7682800292969,
          321.19158935546875,
          316.6988525390625,
          313.9571533203125,
          313.9134216308594,
          315.27435302734375,
          314.44854736328125,
          312.8243713378906,
          313.1744384765625,
          315.37860107421875,
          315.27557373046875,
          312.2126159667969,
          309.9738464355469,
          309.40863037109375,
          310.3636779785156,
          314.3455505371094,
          317.940673828125,
          320.9080810546875,
          325.3833312988281,
          326.51702880859375,
          324.55718994140625,
          321.5362243652344,
          321.46722412109375,
          333.09014892578125,
          341.33538818359375,
          344.07781982421875,
          341.2297668457031,
          340.5532531738281,
          338.6784362792969,
          344.041748046875,
          354.1006164550781,
          361.8551940917969,
          367.9201965332031,
          369.41925048828125,
          369.58013916015625,
          367.5411682128906,
          365.8690490722656,
          368.3323059082031,
          374.63580322265625,
          380.638916015625,
          387.7574768066406,
          393.3427734375,
          397.0644226074219,
          393.7308349609375,
          390.734375,
          385.63409423828125,
          381.86541748046875,
          381.0140075683594,
          379.09405517578125,
          378.56024169921875,
          383.18731689453125,
          386.7198791503906,
          392.4810791015625,
          396.1910400390625,
          398.7999267578125,
          397.1091003417969,
          394.52374267578125,
          393.8866271972656,
          393.57891845703125,
          394.94293212890625,
          398.3535461425781,
          397.95458984375,
          399.4964599609375
         ],
         "type": "scatter"
        }
       ],
       "layout": {
        "template": {
         "data": {
          "histogram2dcontour": [
           {
            "type": "histogram2dcontour",
            "colorbar": {
             "outlinewidth": 0,
             "ticks": ""
            },
            "colorscale": [
             [
              0.0,
              "#0d0887"
             ],
             [
              0.1111111111111111,
              "#46039f"
             ],
             [
              0.2222222222222222,
              "#7201a8"
             ],
             [
              0.3333333333333333,
              "#9c179e"
             ],
             [
              0.4444444444444444,
              "#bd3786"
             ],
             [
              0.5555555555555556,
              "#d8576b"
             ],
             [
              0.6666666666666666,
              "#ed7953"
             ],
             [
              0.7777777777777778,
              "#fb9f3a"
             ],
             [
              0.8888888888888888,
              "#fdca26"
             ],
             [
              1.0,
              "#f0f921"
             ]
            ]
           }
          ],
          "choropleth": [
           {
            "type": "choropleth",
            "colorbar": {
             "outlinewidth": 0,
             "ticks": ""
            }
           }
          ],
          "histogram2d": [
           {
            "type": "histogram2d",
            "colorbar": {
             "outlinewidth": 0,
             "ticks": ""
            },
            "colorscale": [
             [
              0.0,
              "#0d0887"
             ],
             [
              0.1111111111111111,
              "#46039f"
             ],
             [
              0.2222222222222222,
              "#7201a8"
             ],
             [
              0.3333333333333333,
              "#9c179e"
             ],
             [
              0.4444444444444444,
              "#bd3786"
             ],
             [
              0.5555555555555556,
              "#d8576b"
             ],
             [
              0.6666666666666666,
              "#ed7953"
             ],
             [
              0.7777777777777778,
              "#fb9f3a"
             ],
             [
              0.8888888888888888,
              "#fdca26"
             ],
             [
              1.0,
              "#f0f921"
             ]
            ]
           }
          ],
          "heatmap": [
           {
            "type": "heatmap",
            "colorbar": {
             "outlinewidth": 0,
             "ticks": ""
            },
            "colorscale": [
             [
              0.0,
              "#0d0887"
             ],
             [
              0.1111111111111111,
              "#46039f"
             ],
             [
              0.2222222222222222,
              "#7201a8"
             ],
             [
              0.3333333333333333,
              "#9c179e"
             ],
             [
              0.4444444444444444,
              "#bd3786"
             ],
             [
              0.5555555555555556,
              "#d8576b"
             ],
             [
              0.6666666666666666,
              "#ed7953"
             ],
             [
              0.7777777777777778,
              "#fb9f3a"
             ],
             [
              0.8888888888888888,
              "#fdca26"
             ],
             [
              1.0,
              "#f0f921"
             ]
            ]
           }
          ],
          "heatmapgl": [
           {
            "type": "heatmapgl",
            "colorbar": {
             "outlinewidth": 0,
             "ticks": ""
            },
            "colorscale": [
             [
              0.0,
              "#0d0887"
             ],
             [
              0.1111111111111111,
              "#46039f"
             ],
             [
              0.2222222222222222,
              "#7201a8"
             ],
             [
              0.3333333333333333,
              "#9c179e"
             ],
             [
              0.4444444444444444,
              "#bd3786"
             ],
             [
              0.5555555555555556,
              "#d8576b"
             ],
             [
              0.6666666666666666,
              "#ed7953"
             ],
             [
              0.7777777777777778,
              "#fb9f3a"
             ],
             [
              0.8888888888888888,
              "#fdca26"
             ],
             [
              1.0,
              "#f0f921"
             ]
            ]
           }
          ],
          "contourcarpet": [
           {
            "type": "contourcarpet",
            "colorbar": {
             "outlinewidth": 0,
             "ticks": ""
            }
           }
          ],
          "contour": [
           {
            "type": "contour",
            "colorbar": {
             "outlinewidth": 0,
             "ticks": ""
            },
            "colorscale": [
             [
              0.0,
              "#0d0887"
             ],
             [
              0.1111111111111111,
              "#46039f"
             ],
             [
              0.2222222222222222,
              "#7201a8"
             ],
             [
              0.3333333333333333,
              "#9c179e"
             ],
             [
              0.4444444444444444,
              "#bd3786"
             ],
             [
              0.5555555555555556,
              "#d8576b"
             ],
             [
              0.6666666666666666,
              "#ed7953"
             ],
             [
              0.7777777777777778,
              "#fb9f3a"
             ],
             [
              0.8888888888888888,
              "#fdca26"
             ],
             [
              1.0,
              "#f0f921"
             ]
            ]
           }
          ],
          "surface": [
           {
            "type": "surface",
            "colorbar": {
             "outlinewidth": 0,
             "ticks": ""
            },
            "colorscale": [
             [
              0.0,
              "#0d0887"
             ],
             [
              0.1111111111111111,
              "#46039f"
             ],
             [
              0.2222222222222222,
              "#7201a8"
             ],
             [
              0.3333333333333333,
              "#9c179e"
             ],
             [
              0.4444444444444444,
              "#bd3786"
             ],
             [
              0.5555555555555556,
              "#d8576b"
             ],
             [
              0.6666666666666666,
              "#ed7953"
             ],
             [
              0.7777777777777778,
              "#fb9f3a"
             ],
             [
              0.8888888888888888,
              "#fdca26"
             ],
             [
              1.0,
              "#f0f921"
             ]
            ]
           }
          ],
          "mesh3d": [
           {
            "type": "mesh3d",
            "colorbar": {
             "outlinewidth": 0,
             "ticks": ""
            }
           }
          ],
          "scatter": [
           {
            "fillpattern": {
             "fillmode": "overlay",
             "size": 10,
             "solidity": 0.2
            },
            "type": "scatter"
           }
          ],
          "parcoords": [
           {
            "type": "parcoords",
            "line": {
             "colorbar": {
              "outlinewidth": 0,
              "ticks": ""
             }
            }
           }
          ],
          "scatterpolargl": [
           {
            "type": "scatterpolargl",
            "marker": {
             "colorbar": {
              "outlinewidth": 0,
              "ticks": ""
             }
            }
           }
          ],
          "bar": [
           {
            "error_x": {
             "color": "#2a3f5f"
            },
            "error_y": {
             "color": "#2a3f5f"
            },
            "marker": {
             "line": {
              "color": "#E5ECF6",
              "width": 0.5
             },
             "pattern": {
              "fillmode": "overlay",
              "size": 10,
              "solidity": 0.2
             }
            },
            "type": "bar"
           }
          ],
          "scattergeo": [
           {
            "type": "scattergeo",
            "marker": {
             "colorbar": {
              "outlinewidth": 0,
              "ticks": ""
             }
            }
           }
          ],
          "scatterpolar": [
           {
            "type": "scatterpolar",
            "marker": {
             "colorbar": {
              "outlinewidth": 0,
              "ticks": ""
             }
            }
           }
          ],
          "histogram": [
           {
            "marker": {
             "pattern": {
              "fillmode": "overlay",
              "size": 10,
              "solidity": 0.2
             }
            },
            "type": "histogram"
           }
          ],
          "scattergl": [
           {
            "type": "scattergl",
            "marker": {
             "colorbar": {
              "outlinewidth": 0,
              "ticks": ""
             }
            }
           }
          ],
          "scatter3d": [
           {
            "type": "scatter3d",
            "line": {
             "colorbar": {
              "outlinewidth": 0,
              "ticks": ""
             }
            },
            "marker": {
             "colorbar": {
              "outlinewidth": 0,
              "ticks": ""
             }
            }
           }
          ],
          "scattermapbox": [
           {
            "type": "scattermapbox",
            "marker": {
             "colorbar": {
              "outlinewidth": 0,
              "ticks": ""
             }
            }
           }
          ],
          "scatterternary": [
           {
            "type": "scatterternary",
            "marker": {
             "colorbar": {
              "outlinewidth": 0,
              "ticks": ""
             }
            }
           }
          ],
          "scattercarpet": [
           {
            "type": "scattercarpet",
            "marker": {
             "colorbar": {
              "outlinewidth": 0,
              "ticks": ""
             }
            }
           }
          ],
          "carpet": [
           {
            "aaxis": {
             "endlinecolor": "#2a3f5f",
             "gridcolor": "white",
             "linecolor": "white",
             "minorgridcolor": "white",
             "startlinecolor": "#2a3f5f"
            },
            "baxis": {
             "endlinecolor": "#2a3f5f",
             "gridcolor": "white",
             "linecolor": "white",
             "minorgridcolor": "white",
             "startlinecolor": "#2a3f5f"
            },
            "type": "carpet"
           }
          ],
          "table": [
           {
            "cells": {
             "fill": {
              "color": "#EBF0F8"
             },
             "line": {
              "color": "white"
             }
            },
            "header": {
             "fill": {
              "color": "#C8D4E3"
             },
             "line": {
              "color": "white"
             }
            },
            "type": "table"
           }
          ],
          "barpolar": [
           {
            "marker": {
             "line": {
              "color": "#E5ECF6",
              "width": 0.5
             },
             "pattern": {
              "fillmode": "overlay",
              "size": 10,
              "solidity": 0.2
             }
            },
            "type": "barpolar"
           }
          ],
          "pie": [
           {
            "automargin": true,
            "type": "pie"
           }
          ]
         },
         "layout": {
          "autotypenumbers": "strict",
          "colorway": [
           "#636efa",
           "#EF553B",
           "#00cc96",
           "#ab63fa",
           "#FFA15A",
           "#19d3f3",
           "#FF6692",
           "#B6E880",
           "#FF97FF",
           "#FECB52"
          ],
          "font": {
           "color": "#2a3f5f"
          },
          "hovermode": "closest",
          "hoverlabel": {
           "align": "left"
          },
          "paper_bgcolor": "white",
          "plot_bgcolor": "#E5ECF6",
          "polar": {
           "bgcolor": "#E5ECF6",
           "angularaxis": {
            "gridcolor": "white",
            "linecolor": "white",
            "ticks": ""
           },
           "radialaxis": {
            "gridcolor": "white",
            "linecolor": "white",
            "ticks": ""
           }
          },
          "ternary": {
           "bgcolor": "#E5ECF6",
           "aaxis": {
            "gridcolor": "white",
            "linecolor": "white",
            "ticks": ""
           },
           "baxis": {
            "gridcolor": "white",
            "linecolor": "white",
            "ticks": ""
           },
           "caxis": {
            "gridcolor": "white",
            "linecolor": "white",
            "ticks": ""
           }
          },
          "coloraxis": {
           "colorbar": {
            "outlinewidth": 0,
            "ticks": ""
           }
          },
          "colorscale": {
           "sequential": [
            [
             0.0,
             "#0d0887"
            ],
            [
             0.1111111111111111,
             "#46039f"
            ],
            [
             0.2222222222222222,
             "#7201a8"
            ],
            [
             0.3333333333333333,
             "#9c179e"
            ],
            [
             0.4444444444444444,
             "#bd3786"
            ],
            [
             0.5555555555555556,
             "#d8576b"
            ],
            [
             0.6666666666666666,
             "#ed7953"
            ],
            [
             0.7777777777777778,
             "#fb9f3a"
            ],
            [
             0.8888888888888888,
             "#fdca26"
            ],
            [
             1.0,
             "#f0f921"
            ]
           ],
           "sequentialminus": [
            [
             0.0,
             "#0d0887"
            ],
            [
             0.1111111111111111,
             "#46039f"
            ],
            [
             0.2222222222222222,
             "#7201a8"
            ],
            [
             0.3333333333333333,
             "#9c179e"
            ],
            [
             0.4444444444444444,
             "#bd3786"
            ],
            [
             0.5555555555555556,
             "#d8576b"
            ],
            [
             0.6666666666666666,
             "#ed7953"
            ],
            [
             0.7777777777777778,
             "#fb9f3a"
            ],
            [
             0.8888888888888888,
             "#fdca26"
            ],
            [
             1.0,
             "#f0f921"
            ]
           ],
           "diverging": [
            [
             0,
             "#8e0152"
            ],
            [
             0.1,
             "#c51b7d"
            ],
            [
             0.2,
             "#de77ae"
            ],
            [
             0.3,
             "#f1b6da"
            ],
            [
             0.4,
             "#fde0ef"
            ],
            [
             0.5,
             "#f7f7f7"
            ],
            [
             0.6,
             "#e6f5d0"
            ],
            [
             0.7,
             "#b8e186"
            ],
            [
             0.8,
             "#7fbc41"
            ],
            [
             0.9,
             "#4d9221"
            ],
            [
             1,
             "#276419"
            ]
           ]
          },
          "xaxis": {
           "gridcolor": "white",
           "linecolor": "white",
           "ticks": "",
           "title": {
            "standoff": 15
           },
           "zerolinecolor": "white",
           "automargin": true,
           "zerolinewidth": 2
          },
          "yaxis": {
           "gridcolor": "white",
           "linecolor": "white",
           "ticks": "",
           "title": {
            "standoff": 15
           },
           "zerolinecolor": "white",
           "automargin": true,
           "zerolinewidth": 2
          },
          "scene": {
           "xaxis": {
            "backgroundcolor": "#E5ECF6",
            "gridcolor": "white",
            "linecolor": "white",
            "showbackground": true,
            "ticks": "",
            "zerolinecolor": "white",
            "gridwidth": 2
           },
           "yaxis": {
            "backgroundcolor": "#E5ECF6",
            "gridcolor": "white",
            "linecolor": "white",
            "showbackground": true,
            "ticks": "",
            "zerolinecolor": "white",
            "gridwidth": 2
           },
           "zaxis": {
            "backgroundcolor": "#E5ECF6",
            "gridcolor": "white",
            "linecolor": "white",
            "showbackground": true,
            "ticks": "",
            "zerolinecolor": "white",
            "gridwidth": 2
           }
          },
          "shapedefaults": {
           "line": {
            "color": "#2a3f5f"
           }
          },
          "annotationdefaults": {
           "arrowcolor": "#2a3f5f",
           "arrowhead": 0,
           "arrowwidth": 1
          },
          "geo": {
           "bgcolor": "white",
           "landcolor": "#E5ECF6",
           "subunitcolor": "white",
           "showland": true,
           "showlakes": true,
           "lakecolor": "white"
          },
          "title": {
           "x": 0.05
          },
          "mapbox": {
           "style": "light"
          }
         }
        },
        "legend": {
         "orientation": "h",
         "x": 0.5,
         "xanchor": "center"
        },
        "xaxis": {
         "gridcolor": "lightgrey",
         "title": {
          "text": "Timestep"
         }
        },
        "yaxis": {
         "gridcolor": "lightgrey",
         "title": {
          "text": "Stock price"
         }
        },
        "title": {
         "text": "NFLX LSTM prediction",
         "x": 0.5
        },
        "margin": {
         "l": 0,
         "r": 0,
         "t": 30,
         "b": 0
        },
        "plot_bgcolor": "#FFFFFF"
       },
       "config": {
        "plotlyServerURL": "https://plot.ly"
       }
      },
      "text/html": "<div>                            <div id=\"cf6b40b9-b9ad-4ed7-8c50-ddace0644430\" class=\"plotly-graph-div\" style=\"height:525px; width:100%;\"></div>            <script type=\"text/javascript\">                require([\"plotly\"], function(Plotly) {                    window.PLOTLYENV=window.PLOTLYENV || {};                                    if (document.getElementById(\"cf6b40b9-b9ad-4ed7-8c50-ddace0644430\")) {                    Plotly.newPlot(                        \"cf6b40b9-b9ad-4ed7-8c50-ddace0644430\",                        [{\"marker\":{\"color\":\"#39304A\"},\"mode\":\"lines+markers\",\"name\":\"historical\",\"x\":[0,1,2,3,4,5,6,7,8,9,10,11,12,13,14,15,16,17,18,19,20],\"y\":[539.4199829101562,540.6699829101562,544.530029296875,546.989990234375,554.5800170898438,555.3099975585938,552.780029296875,553.72998046875,540.02001953125,549.219970703125,546.5399780273438,554.4400024414062,549.5700073242188,508.8999938964844,508.7799987792969,505.54998779296875,510.29998779296875,505.54998779296875,506.5199890136719,509.0,513.469970703125,509.1099853515625],\"type\":\"scatter\"},{\"marker\":{\"color\":\"#FFAA00\"},\"mode\":\"lines+markers\",\"name\":\"predictions\",\"x\":[0,1,2,3,4,5,6,7,8,9,10,11,12,13,14,15,16,17,18,19,20],\"y\":[214.11810302734375,216.26756286621094,218.56861877441406,220.47381591796875,215.61366271972656,209.1873016357422,202.45391845703125,199.31378173828125,196.871826171875,196.73809814453125,200.2879180908203,204.95703125,208.75900268554688,207.4250946044922,205.89459228515625,205.41668701171875,205.7104949951172,204.51919555664062,204.91021728515625,206.67678833007812,209.1976776123047,211.5702667236328,211.8611297607422,213.9834747314453,214.50582885742188,213.6941375732422,212.9692840576172,213.53753662109375,212.07228088378906,208.15159606933594,201.8084259033203,197.4969024658203,197.5849609375,198.29437255859375,199.4344024658203,199.6291961669922,201.06527709960938,203.02859497070312,206.4696502685547,208.63247680664062,207.06878662109375,204.19189453125,201.00587463378906,200.09298706054688,201.90316772460938,203.79986572265625,206.26394653320312,207.4908905029297,205.46852111816406,202.20118713378906,200.14369201660156,199.055419921875,202.06182861328125,206.1634979248047,211.57760620117188,219.73846435546875,229.65863037109375,233.8408966064453,233.1411895751953,228.94847106933594,229.117431640625,230.66848754882812,231.85540771484375,233.0082550048828,232.19969177246094,232.82554626464844,234.93487548828125,235.79820251464844,238.0517578125,238.77001953125,243.26036071777344,247.06683349609375,251.18951416015625,253.5623779296875,253.00537109375,249.89952087402344,248.38290405273438,246.719970703125,240.78369140625,235.01876831054688,233.50982666015625,236.00271606445312,235.60000610351562,234.79791259765625,233.02935791015625,232.4901885986328,234.74037170410156,235.8961639404297,233.58895874023438,234.24432373046875,235.2597198486328,237.93309020996094,241.09902954101562,237.18995666503906,233.9473419189453,235.8209686279297,240.52162170410156,245.91123962402344,249.00230407714844,247.8087158203125,245.40005493164062,239.75396728515625,234.42640686035156,231.5362091064453,237.68873596191406,243.620849609375,245.5816650390625,246.4336700439453,246.95858764648438,245.637939453125,245.15798950195312,239.91810607910156,236.71165466308594,230.59181213378906,227.94009399414062,231.7232208251953,235.87522888183594,243.86831665039062,248.63023376464844,260.9551086425781,269.2032775878906,279.5780029296875,283.36822509765625,285.76055908203125,288.87481689453125,290.10882568359375,289.6853942871094,287.5777282714844,284.13690185546875,277.18121337890625,270.780517578125,264.6949157714844,260.8607482910156,261.4751281738281,260.8155517578125,267.19830322265625,278.8639221191406,290.5777893066406,300.7220458984375,303.9288635253906,299.0962219238281,290.5495910644531,282.9465026855469,279.4324951171875,280.8348083496094,281.8040466308594,281.09625244140625,280.2309875488281,288.2852783203125,300.09735107421875,309.233154296875,310.4789123535156,305.695068359375,301.4374694824219,299.5447692871094,302.700927734375,304.7623596191406,307.560546875,308.61077880859375,299.30548095703125,290.51727294921875,284.732666015625,282.6573486328125,286.5149230957031,291.0932922363281,293.1694641113281,289.7237243652344,283.1204833984375,282.83233642578125,286.15655517578125,289.45501708984375,296.3495178222656,301.5002136230469,305.67425537109375,307.2825012207031,311.3155822753906,313.9949645996094,315.92791748046875,317.5461120605469,316.04534912109375,314.205322265625,309.53570556640625,315.0879211425781,326.90118408203125,337.8834533691406,344.9643249511719,346.1959533691406,343.2218322753906,337.3268127441406,333.21978759765625,334.3204345703125,338.5758361816406,341.940185546875,342.2251281738281,341.9296875,342.8173828125,342.1901550292969,336.33203125,335.1825866699219,336.5097961425781,338.7398681640625,336.7761535644531,333.48626708984375,327.6591491699219,322.72235107421875,316.5633850097656,310.7001037597656,309.6419982910156,310.60650634765625,309.1597900390625,307.0742492675781,306.71588134765625,305.9630432128906,304.1156921386719,303.7263488769531,299.11541748046875,293.2664794921875,289.64208984375,288.885009765625,292.6604919433594,298.7111511230469,300.69244384765625,300.8659973144531,300.3014221191406,295.4414367675781,300.13983154296875,308.8424072265625,314.8172607421875,315.8136901855469,317.34649658203125,320.268310546875,324.61737060546875,328.37432861328125,329.68438720703125,328.06011962890625,325.11077880859375,322.909423828125,321.7762756347656,319.294921875,322.80096435546875,324.3413391113281,322.7682800292969,321.19158935546875,316.6988525390625,313.9571533203125,313.9134216308594,315.27435302734375,314.44854736328125,312.8243713378906,313.1744384765625,315.37860107421875,315.27557373046875,312.2126159667969,309.9738464355469,309.40863037109375,310.3636779785156,314.3455505371094,317.940673828125,320.9080810546875,325.3833312988281,326.51702880859375,324.55718994140625,321.5362243652344,321.46722412109375,333.09014892578125,341.33538818359375,344.07781982421875,341.2297668457031,340.5532531738281,338.6784362792969,344.041748046875,354.1006164550781,361.8551940917969,367.9201965332031,369.41925048828125,369.58013916015625,367.5411682128906,365.8690490722656,368.3323059082031,374.63580322265625,380.638916015625,387.7574768066406,393.3427734375,397.0644226074219,393.7308349609375,390.734375,385.63409423828125,381.86541748046875,381.0140075683594,379.09405517578125,378.56024169921875,383.18731689453125,386.7198791503906,392.4810791015625,396.1910400390625,398.7999267578125,397.1091003417969,394.52374267578125,393.8866271972656,393.57891845703125,394.94293212890625,398.3535461425781,397.95458984375,399.4964599609375],\"type\":\"scatter\"}],                        {\"template\":{\"data\":{\"histogram2dcontour\":[{\"type\":\"histogram2dcontour\",\"colorbar\":{\"outlinewidth\":0,\"ticks\":\"\"},\"colorscale\":[[0.0,\"#0d0887\"],[0.1111111111111111,\"#46039f\"],[0.2222222222222222,\"#7201a8\"],[0.3333333333333333,\"#9c179e\"],[0.4444444444444444,\"#bd3786\"],[0.5555555555555556,\"#d8576b\"],[0.6666666666666666,\"#ed7953\"],[0.7777777777777778,\"#fb9f3a\"],[0.8888888888888888,\"#fdca26\"],[1.0,\"#f0f921\"]]}],\"choropleth\":[{\"type\":\"choropleth\",\"colorbar\":{\"outlinewidth\":0,\"ticks\":\"\"}}],\"histogram2d\":[{\"type\":\"histogram2d\",\"colorbar\":{\"outlinewidth\":0,\"ticks\":\"\"},\"colorscale\":[[0.0,\"#0d0887\"],[0.1111111111111111,\"#46039f\"],[0.2222222222222222,\"#7201a8\"],[0.3333333333333333,\"#9c179e\"],[0.4444444444444444,\"#bd3786\"],[0.5555555555555556,\"#d8576b\"],[0.6666666666666666,\"#ed7953\"],[0.7777777777777778,\"#fb9f3a\"],[0.8888888888888888,\"#fdca26\"],[1.0,\"#f0f921\"]]}],\"heatmap\":[{\"type\":\"heatmap\",\"colorbar\":{\"outlinewidth\":0,\"ticks\":\"\"},\"colorscale\":[[0.0,\"#0d0887\"],[0.1111111111111111,\"#46039f\"],[0.2222222222222222,\"#7201a8\"],[0.3333333333333333,\"#9c179e\"],[0.4444444444444444,\"#bd3786\"],[0.5555555555555556,\"#d8576b\"],[0.6666666666666666,\"#ed7953\"],[0.7777777777777778,\"#fb9f3a\"],[0.8888888888888888,\"#fdca26\"],[1.0,\"#f0f921\"]]}],\"heatmapgl\":[{\"type\":\"heatmapgl\",\"colorbar\":{\"outlinewidth\":0,\"ticks\":\"\"},\"colorscale\":[[0.0,\"#0d0887\"],[0.1111111111111111,\"#46039f\"],[0.2222222222222222,\"#7201a8\"],[0.3333333333333333,\"#9c179e\"],[0.4444444444444444,\"#bd3786\"],[0.5555555555555556,\"#d8576b\"],[0.6666666666666666,\"#ed7953\"],[0.7777777777777778,\"#fb9f3a\"],[0.8888888888888888,\"#fdca26\"],[1.0,\"#f0f921\"]]}],\"contourcarpet\":[{\"type\":\"contourcarpet\",\"colorbar\":{\"outlinewidth\":0,\"ticks\":\"\"}}],\"contour\":[{\"type\":\"contour\",\"colorbar\":{\"outlinewidth\":0,\"ticks\":\"\"},\"colorscale\":[[0.0,\"#0d0887\"],[0.1111111111111111,\"#46039f\"],[0.2222222222222222,\"#7201a8\"],[0.3333333333333333,\"#9c179e\"],[0.4444444444444444,\"#bd3786\"],[0.5555555555555556,\"#d8576b\"],[0.6666666666666666,\"#ed7953\"],[0.7777777777777778,\"#fb9f3a\"],[0.8888888888888888,\"#fdca26\"],[1.0,\"#f0f921\"]]}],\"surface\":[{\"type\":\"surface\",\"colorbar\":{\"outlinewidth\":0,\"ticks\":\"\"},\"colorscale\":[[0.0,\"#0d0887\"],[0.1111111111111111,\"#46039f\"],[0.2222222222222222,\"#7201a8\"],[0.3333333333333333,\"#9c179e\"],[0.4444444444444444,\"#bd3786\"],[0.5555555555555556,\"#d8576b\"],[0.6666666666666666,\"#ed7953\"],[0.7777777777777778,\"#fb9f3a\"],[0.8888888888888888,\"#fdca26\"],[1.0,\"#f0f921\"]]}],\"mesh3d\":[{\"type\":\"mesh3d\",\"colorbar\":{\"outlinewidth\":0,\"ticks\":\"\"}}],\"scatter\":[{\"fillpattern\":{\"fillmode\":\"overlay\",\"size\":10,\"solidity\":0.2},\"type\":\"scatter\"}],\"parcoords\":[{\"type\":\"parcoords\",\"line\":{\"colorbar\":{\"outlinewidth\":0,\"ticks\":\"\"}}}],\"scatterpolargl\":[{\"type\":\"scatterpolargl\",\"marker\":{\"colorbar\":{\"outlinewidth\":0,\"ticks\":\"\"}}}],\"bar\":[{\"error_x\":{\"color\":\"#2a3f5f\"},\"error_y\":{\"color\":\"#2a3f5f\"},\"marker\":{\"line\":{\"color\":\"#E5ECF6\",\"width\":0.5},\"pattern\":{\"fillmode\":\"overlay\",\"size\":10,\"solidity\":0.2}},\"type\":\"bar\"}],\"scattergeo\":[{\"type\":\"scattergeo\",\"marker\":{\"colorbar\":{\"outlinewidth\":0,\"ticks\":\"\"}}}],\"scatterpolar\":[{\"type\":\"scatterpolar\",\"marker\":{\"colorbar\":{\"outlinewidth\":0,\"ticks\":\"\"}}}],\"histogram\":[{\"marker\":{\"pattern\":{\"fillmode\":\"overlay\",\"size\":10,\"solidity\":0.2}},\"type\":\"histogram\"}],\"scattergl\":[{\"type\":\"scattergl\",\"marker\":{\"colorbar\":{\"outlinewidth\":0,\"ticks\":\"\"}}}],\"scatter3d\":[{\"type\":\"scatter3d\",\"line\":{\"colorbar\":{\"outlinewidth\":0,\"ticks\":\"\"}},\"marker\":{\"colorbar\":{\"outlinewidth\":0,\"ticks\":\"\"}}}],\"scattermapbox\":[{\"type\":\"scattermapbox\",\"marker\":{\"colorbar\":{\"outlinewidth\":0,\"ticks\":\"\"}}}],\"scatterternary\":[{\"type\":\"scatterternary\",\"marker\":{\"colorbar\":{\"outlinewidth\":0,\"ticks\":\"\"}}}],\"scattercarpet\":[{\"type\":\"scattercarpet\",\"marker\":{\"colorbar\":{\"outlinewidth\":0,\"ticks\":\"\"}}}],\"carpet\":[{\"aaxis\":{\"endlinecolor\":\"#2a3f5f\",\"gridcolor\":\"white\",\"linecolor\":\"white\",\"minorgridcolor\":\"white\",\"startlinecolor\":\"#2a3f5f\"},\"baxis\":{\"endlinecolor\":\"#2a3f5f\",\"gridcolor\":\"white\",\"linecolor\":\"white\",\"minorgridcolor\":\"white\",\"startlinecolor\":\"#2a3f5f\"},\"type\":\"carpet\"}],\"table\":[{\"cells\":{\"fill\":{\"color\":\"#EBF0F8\"},\"line\":{\"color\":\"white\"}},\"header\":{\"fill\":{\"color\":\"#C8D4E3\"},\"line\":{\"color\":\"white\"}},\"type\":\"table\"}],\"barpolar\":[{\"marker\":{\"line\":{\"color\":\"#E5ECF6\",\"width\":0.5},\"pattern\":{\"fillmode\":\"overlay\",\"size\":10,\"solidity\":0.2}},\"type\":\"barpolar\"}],\"pie\":[{\"automargin\":true,\"type\":\"pie\"}]},\"layout\":{\"autotypenumbers\":\"strict\",\"colorway\":[\"#636efa\",\"#EF553B\",\"#00cc96\",\"#ab63fa\",\"#FFA15A\",\"#19d3f3\",\"#FF6692\",\"#B6E880\",\"#FF97FF\",\"#FECB52\"],\"font\":{\"color\":\"#2a3f5f\"},\"hovermode\":\"closest\",\"hoverlabel\":{\"align\":\"left\"},\"paper_bgcolor\":\"white\",\"plot_bgcolor\":\"#E5ECF6\",\"polar\":{\"bgcolor\":\"#E5ECF6\",\"angularaxis\":{\"gridcolor\":\"white\",\"linecolor\":\"white\",\"ticks\":\"\"},\"radialaxis\":{\"gridcolor\":\"white\",\"linecolor\":\"white\",\"ticks\":\"\"}},\"ternary\":{\"bgcolor\":\"#E5ECF6\",\"aaxis\":{\"gridcolor\":\"white\",\"linecolor\":\"white\",\"ticks\":\"\"},\"baxis\":{\"gridcolor\":\"white\",\"linecolor\":\"white\",\"ticks\":\"\"},\"caxis\":{\"gridcolor\":\"white\",\"linecolor\":\"white\",\"ticks\":\"\"}},\"coloraxis\":{\"colorbar\":{\"outlinewidth\":0,\"ticks\":\"\"}},\"colorscale\":{\"sequential\":[[0.0,\"#0d0887\"],[0.1111111111111111,\"#46039f\"],[0.2222222222222222,\"#7201a8\"],[0.3333333333333333,\"#9c179e\"],[0.4444444444444444,\"#bd3786\"],[0.5555555555555556,\"#d8576b\"],[0.6666666666666666,\"#ed7953\"],[0.7777777777777778,\"#fb9f3a\"],[0.8888888888888888,\"#fdca26\"],[1.0,\"#f0f921\"]],\"sequentialminus\":[[0.0,\"#0d0887\"],[0.1111111111111111,\"#46039f\"],[0.2222222222222222,\"#7201a8\"],[0.3333333333333333,\"#9c179e\"],[0.4444444444444444,\"#bd3786\"],[0.5555555555555556,\"#d8576b\"],[0.6666666666666666,\"#ed7953\"],[0.7777777777777778,\"#fb9f3a\"],[0.8888888888888888,\"#fdca26\"],[1.0,\"#f0f921\"]],\"diverging\":[[0,\"#8e0152\"],[0.1,\"#c51b7d\"],[0.2,\"#de77ae\"],[0.3,\"#f1b6da\"],[0.4,\"#fde0ef\"],[0.5,\"#f7f7f7\"],[0.6,\"#e6f5d0\"],[0.7,\"#b8e186\"],[0.8,\"#7fbc41\"],[0.9,\"#4d9221\"],[1,\"#276419\"]]},\"xaxis\":{\"gridcolor\":\"white\",\"linecolor\":\"white\",\"ticks\":\"\",\"title\":{\"standoff\":15},\"zerolinecolor\":\"white\",\"automargin\":true,\"zerolinewidth\":2},\"yaxis\":{\"gridcolor\":\"white\",\"linecolor\":\"white\",\"ticks\":\"\",\"title\":{\"standoff\":15},\"zerolinecolor\":\"white\",\"automargin\":true,\"zerolinewidth\":2},\"scene\":{\"xaxis\":{\"backgroundcolor\":\"#E5ECF6\",\"gridcolor\":\"white\",\"linecolor\":\"white\",\"showbackground\":true,\"ticks\":\"\",\"zerolinecolor\":\"white\",\"gridwidth\":2},\"yaxis\":{\"backgroundcolor\":\"#E5ECF6\",\"gridcolor\":\"white\",\"linecolor\":\"white\",\"showbackground\":true,\"ticks\":\"\",\"zerolinecolor\":\"white\",\"gridwidth\":2},\"zaxis\":{\"backgroundcolor\":\"#E5ECF6\",\"gridcolor\":\"white\",\"linecolor\":\"white\",\"showbackground\":true,\"ticks\":\"\",\"zerolinecolor\":\"white\",\"gridwidth\":2}},\"shapedefaults\":{\"line\":{\"color\":\"#2a3f5f\"}},\"annotationdefaults\":{\"arrowcolor\":\"#2a3f5f\",\"arrowhead\":0,\"arrowwidth\":1},\"geo\":{\"bgcolor\":\"white\",\"landcolor\":\"#E5ECF6\",\"subunitcolor\":\"white\",\"showland\":true,\"showlakes\":true,\"lakecolor\":\"white\"},\"title\":{\"x\":0.05},\"mapbox\":{\"style\":\"light\"}}},\"legend\":{\"orientation\":\"h\",\"x\":0.5,\"xanchor\":\"center\"},\"xaxis\":{\"gridcolor\":\"lightgrey\",\"title\":{\"text\":\"Timestep\"}},\"yaxis\":{\"gridcolor\":\"lightgrey\",\"title\":{\"text\":\"Stock price\"}},\"title\":{\"text\":\"NFLX LSTM prediction\",\"x\":0.5},\"margin\":{\"l\":0,\"r\":0,\"t\":30,\"b\":0},\"plot_bgcolor\":\"#FFFFFF\"},                        {\"responsive\": true}                    ).then(function(){\n                            \nvar gd = document.getElementById('cf6b40b9-b9ad-4ed7-8c50-ddace0644430');\nvar x = new MutationObserver(function (mutations, observer) {{\n        var display = window.getComputedStyle(gd).display;\n        if (!display || display === 'none') {{\n            console.log([gd, 'removed!']);\n            Plotly.purge(gd);\n            observer.disconnect();\n        }}\n}});\n\n// Listen for the removal of the full notebook cells\nvar notebookContainer = gd.closest('#notebook-container');\nif (notebookContainer) {{\n    x.observe(notebookContainer, {childList: true});\n}}\n\n// Listen for the clearing of the current output cell\nvar outputEl = gd.closest('.output');\nif (outputEl) {{\n    x.observe(outputEl, {childList: true});\n}}\n\n                        })                };                });            </script>        </div>"
     },
     "metadata": {},
     "output_type": "display_data"
    }
   ],
   "source": [
    "# build graphs\n",
    "preds_gr = np.reshape(pred_lstm, (304,))\n",
    "fig = go.Figure()\n",
    "fig.add_trace(go.Scatter(x=list(range(0, 21)), y=hist_data_new, mode='lines+markers',  name='historical', marker_color='#39304A'))\n",
    "fig.add_trace(go.Scatter(x=list(range(0, 21)), y=preds_gr, mode='lines+markers', name='predictions', marker_color='#FFAA00'))\n",
    "fig.update_layout(legend_orientation=\"h\",\n",
    "              legend=dict(x=.5, xanchor=\"center\"),\n",
    "              plot_bgcolor='#FFFFFF',\n",
    "              xaxis=dict(gridcolor = 'lightgrey'),\n",
    "              yaxis=dict(gridcolor = 'lightgrey'),\n",
    "              title_text = f'{stock_name} LSTM prediction', title_x = 0.5,\n",
    "              xaxis_title=\"Timestep\",\n",
    "              yaxis_title=\"Stock price\",\n",
    "              margin=dict(l=0, r=0, t=30, b=0))\n",
    "fig.show()\n"
   ],
   "metadata": {
    "collapsed": false,
    "ExecuteTime": {
     "end_time": "2023-07-20T11:25:50.652795898Z",
     "start_time": "2023-07-20T11:25:50.649308453Z"
    }
   }
  }
 ],
 "metadata": {
  "kernelspec": {
   "display_name": "Python 3",
   "language": "python",
   "name": "python3"
  },
  "language_info": {
   "codemirror_mode": {
    "name": "ipython",
    "version": 2
   },
   "file_extension": ".py",
   "mimetype": "text/x-python",
   "name": "python",
   "nbconvert_exporter": "python",
   "pygments_lexer": "ipython2",
   "version": "2.7.6"
  }
 },
 "nbformat": 4,
 "nbformat_minor": 0
}
